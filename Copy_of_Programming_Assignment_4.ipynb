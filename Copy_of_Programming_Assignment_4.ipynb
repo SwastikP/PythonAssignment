{
  "cells": [
    {
      "cell_type": "markdown",
      "metadata": {
        "id": "view-in-github",
        "colab_type": "text"
      },
      "source": [
        "<a href=\"https://colab.research.google.com/github/SwastikP/PythonAssignment/blob/main/Copy_of_Programming_Assignment_4.ipynb\" target=\"_parent\"><img src=\"https://colab.research.google.com/assets/colab-badge.svg\" alt=\"Open In Colab\"/></a>"
      ]
    },
    {
      "cell_type": "markdown",
      "id": "20cb4340",
      "metadata": {
        "id": "20cb4340"
      },
      "source": [
        "## Programming Assignment_4\n",
        "----------------"
      ]
    },
    {
      "cell_type": "markdown",
      "id": "4fdb6695",
      "metadata": {
        "id": "4fdb6695"
      },
      "source": [
        "### 1. Write a Python Program to Find the Factorial of a Number?"
      ]
    },
    {
      "cell_type": "code",
      "source": [
        "number=int(input(\"Enter Number:\"))\n",
        "fact=1\n",
        "if number==0:\n",
        "  fact=1\n",
        "else:\n",
        "  for i in range(1,number+1):\n",
        "    fact*=i\n",
        "print(\"Factorial:\", fact)"
      ],
      "metadata": {
        "id": "ntdrY61bHf1j",
        "colab": {
          "base_uri": "https://localhost:8080/"
        },
        "outputId": "e048b3c3-4f84-4fa9-82e3-6a7b23eda12d"
      },
      "id": "ntdrY61bHf1j",
      "execution_count": 8,
      "outputs": [
        {
          "output_type": "stream",
          "name": "stdout",
          "text": [
            "Enter Number:-5\n",
            "Factorial: 1\n"
          ]
        }
      ]
    },
    {
      "cell_type": "markdown",
      "id": "e6beef62",
      "metadata": {
        "id": "e6beef62"
      },
      "source": [
        "### 2. Write a Python Program to Display the multiplication Table?"
      ]
    },
    {
      "cell_type": "code",
      "source": [
        "number=int(input(\"Enter the Number for which you want to see the table:\"))\n",
        "limit=int(input(\"Enter the range up to which you want to see the table:\"))\n",
        "print(\"Table of {0}\".format(number))\n",
        "for i in range(1,limit+1):\n",
        "  result=number*i\n",
        "  print('{0}*{1}={2}'.format(number,i,result))"
      ],
      "metadata": {
        "colab": {
          "base_uri": "https://localhost:8080/"
        },
        "id": "5chcYOPlMkrE",
        "outputId": "f9973dc2-31cb-402a-9341-7c6dbcb6d743"
      },
      "id": "5chcYOPlMkrE",
      "execution_count": 11,
      "outputs": [
        {
          "output_type": "stream",
          "name": "stdout",
          "text": [
            "Enter the Number for which you want to see the table:13\n",
            "Enter the range up to which you want to see the table:20\n",
            "Table of 13\n",
            "13*1=13\n",
            "13*2=26\n",
            "13*3=39\n",
            "13*4=52\n",
            "13*5=65\n",
            "13*6=78\n",
            "13*7=91\n",
            "13*8=104\n",
            "13*9=117\n",
            "13*10=130\n",
            "13*11=143\n",
            "13*12=156\n",
            "13*13=169\n",
            "13*14=182\n",
            "13*15=195\n",
            "13*16=208\n",
            "13*17=221\n",
            "13*18=234\n",
            "13*19=247\n",
            "13*20=260\n"
          ]
        }
      ]
    },
    {
      "cell_type": "markdown",
      "id": "7de7eba5",
      "metadata": {
        "id": "7de7eba5"
      },
      "source": [
        "### 3. Write a Python Program to Print the Fibonacci sequence?\n"
      ]
    },
    {
      "cell_type": "code",
      "source": [
        "limit = int(input (\"How many terms you want:\")) \n",
        "list1=[] \n",
        "n_1,n_2=0,1 \n",
        "count = 0  \n",
        "if limit <= 0:  \n",
        "    print (\"Please enter a positive integer, the given number is not valid\")   \n",
        "elif limit == 1:  \n",
        "    print (\"The Fibonacci sequence of the numbers up to\", limit, \": \")  \n",
        "    print(n_1)  \n",
        "else:  \n",
        "    print (\"The fibonacci sequence of the numbers is:\")  \n",
        "    while count < limit:  \n",
        "        #print(n_1)  \n",
        "        list1.append(n_1)\n",
        "        next = n_1 + n_2    \n",
        "        n_1 = n_2  \n",
        "        n_2 = next  \n",
        "        count += 1  \n",
        "print(list1)"
      ],
      "metadata": {
        "colab": {
          "base_uri": "https://localhost:8080/"
        },
        "id": "ujoRMRgSOXor",
        "outputId": "58a53047-e7e0-4622-bec4-ab1ca988f30b"
      },
      "id": "ujoRMRgSOXor",
      "execution_count": 22,
      "outputs": [
        {
          "output_type": "stream",
          "name": "stdout",
          "text": [
            "How many terms you want:10\n",
            "The fibonacci sequence of the numbers is:\n",
            "[0, 1, 1, 2, 3, 5, 8, 13, 21, 34]\n"
          ]
        }
      ]
    },
    {
      "cell_type": "markdown",
      "id": "0446442e",
      "metadata": {
        "id": "0446442e"
      },
      "source": [
        "### 4. Write a Python Program to Check Armstrong Number?"
      ]
    },
    {
      "cell_type": "code",
      "source": [
        "number=int(input(\"Enter Number:\"))\n",
        "order=len(str(number))\n",
        "sum=0\n",
        "temp=number\n",
        "while number>0:\n",
        "  rem=number%10\n",
        "  sum+=rem**order\n",
        "  number=number//10\n",
        "\n",
        "if temp==sum:\n",
        "  print(\"{0} is Armstrong Number\".format(temp))\n",
        "else:\n",
        "  print(\"{0} is not Armstrong Number\".format(temp))\n",
        "\n"
      ],
      "metadata": {
        "colab": {
          "base_uri": "https://localhost:8080/"
        },
        "id": "yRiOAlqARtQi",
        "outputId": "0bfe668b-d101-46f6-9a71-ca3ba5c6ff74"
      },
      "id": "yRiOAlqARtQi",
      "execution_count": 30,
      "outputs": [
        {
          "output_type": "stream",
          "name": "stdout",
          "text": [
            "Enter Number:1634\n",
            "1634 is Armstrong Number\n"
          ]
        }
      ]
    },
    {
      "cell_type": "markdown",
      "id": "a6f9adfe",
      "metadata": {
        "id": "a6f9adfe"
      },
      "source": [
        "### 5. Write a Python Program to Find Armstrong Number in an Interval?"
      ]
    },
    {
      "cell_type": "code",
      "source": [
        "lower =int(input(\"Enter Lower number:\"))\n",
        "upper=int(input(\"Enter upper number:\"))\n",
        "list1=[]\n",
        "print(\"Armstrong numbers between\", lower, \"and\", upper, \"are:\")\n",
        "\n",
        "for num in range(lower, upper + 1):\n",
        "   order = len(str(num))\n",
        "   sum = 0\n",
        "   temp = num\n",
        "   while temp > 0:\n",
        "       digit = temp % 10\n",
        "       sum += digit ** order\n",
        "       temp //= 10\n",
        "\n",
        "   if num == sum:\n",
        "       #int(num)\n",
        "       list1.append(num)\n",
        "print(list1)"
      ],
      "metadata": {
        "colab": {
          "base_uri": "https://localhost:8080/"
        },
        "id": "7yp4D3MCTPtb",
        "outputId": "05433832-05b7-4aad-f0aa-507eba0eeb5e"
      },
      "id": "7yp4D3MCTPtb",
      "execution_count": 32,
      "outputs": [
        {
          "output_type": "stream",
          "name": "stdout",
          "text": [
            "Enter Lower number:100\n",
            "Enter upper number:50000\n",
            "Armstrong numbers between 100 and 50000 are:\n",
            "[153, 370, 371, 407, 1634, 8208, 9474]\n"
          ]
        }
      ]
    },
    {
      "cell_type": "markdown",
      "id": "157cad60",
      "metadata": {
        "id": "157cad60"
      },
      "source": [
        "### 6. Write a Python Program to Find the Sum of Natural Numbers?"
      ]
    },
    {
      "cell_type": "code",
      "source": [
        "num = int(input(\"Enter up to which :\"))\n",
        "\n",
        "if num < 0:\n",
        "   print(\"Enter a positive number\")\n",
        "else:\n",
        "   sum = 0\n",
        "   while(num > 0):\n",
        "       sum += num\n",
        "       num -= 1\n",
        "   print(\"The sum is\", sum)"
      ],
      "metadata": {
        "colab": {
          "base_uri": "https://localhost:8080/"
        },
        "id": "QPcZ767JYjWV",
        "outputId": "509a0e35-0b9e-48ba-bcea-64b4e6971599"
      },
      "id": "QPcZ767JYjWV",
      "execution_count": 33,
      "outputs": [
        {
          "output_type": "stream",
          "name": "stdout",
          "text": [
            "Enter up to which :5\n",
            "The sum is 15\n"
          ]
        }
      ]
    },
    {
      "cell_type": "code",
      "source": [],
      "metadata": {
        "id": "P8gp1Zg5ZUnO"
      },
      "id": "P8gp1Zg5ZUnO",
      "execution_count": null,
      "outputs": []
    }
  ],
  "metadata": {
    "kernelspec": {
      "display_name": "Python 3 (ipykernel)",
      "language": "python",
      "name": "python3"
    },
    "language_info": {
      "codemirror_mode": {
        "name": "ipython",
        "version": 3
      },
      "file_extension": ".py",
      "mimetype": "text/x-python",
      "name": "python",
      "nbconvert_exporter": "python",
      "pygments_lexer": "ipython3",
      "version": "3.9.12"
    },
    "colab": {
      "provenance": [],
      "include_colab_link": true
    }
  },
  "nbformat": 4,
  "nbformat_minor": 5
}