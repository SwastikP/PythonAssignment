{
  "cells": [
    {
      "cell_type": "markdown",
      "id": "84a41a9f",
      "metadata": {
        "id": "84a41a9f"
      },
      "source": [
        "# Programming Basic Assignment 6"
      ]
    },
    {
      "cell_type": "markdown",
      "id": "a4b40558",
      "metadata": {
        "id": "a4b40558"
      },
      "source": [
        "### 1. Write a Python Program to Display Fibonacci Sequence Using Recursion?"
      ]
    },
    {
      "cell_type": "code",
      "source": [
        "def fibonacci(n):\n",
        "   if n <= 1:\n",
        "       return n\n",
        "   else:\n",
        "       return(fibonacci(n-1) + fibonacci(n-2))\n",
        "\n",
        "\n"
      ],
      "metadata": {
        "id": "PKjIz6ZKbDN_"
      },
      "id": "PKjIz6ZKbDN_",
      "execution_count": 1,
      "outputs": []
    },
    {
      "cell_type": "code",
      "source": [
        "limit = int(input (\"How many terms you want:\"))\n",
        "if limit <= 0:\n",
        "   print(\"Plese enter a positive integer\")\n",
        "else:\n",
        "   print(\"Fibonacci sequence:\")\n",
        "   for i in range(limit):\n",
        "       print(fibonacci(i))"
      ],
      "metadata": {
        "colab": {
          "base_uri": "https://localhost:8080/"
        },
        "id": "nJp_JWrJbt07",
        "outputId": "6fb56468-5749-4764-8c74-055eca5465e4"
      },
      "id": "nJp_JWrJbt07",
      "execution_count": 3,
      "outputs": [
        {
          "output_type": "stream",
          "name": "stdout",
          "text": [
            "How many terms you want:10\n",
            "Fibonacci sequence:\n",
            "0\n",
            "1\n",
            "1\n",
            "2\n",
            "3\n",
            "5\n",
            "8\n",
            "13\n",
            "21\n",
            "34\n"
          ]
        }
      ]
    },
    {
      "cell_type": "markdown",
      "id": "d7a57f60",
      "metadata": {
        "id": "d7a57f60"
      },
      "source": [
        "### 2. Write a Python Program to Find Factorial of Number Using Recursion?"
      ]
    },
    {
      "cell_type": "code",
      "source": [
        "def fact(n):\n",
        "   if n == 0:\n",
        "       return 1\n",
        "   else:\n",
        "       return(n*fact(n-1))"
      ],
      "metadata": {
        "id": "7mDWtIZEcqee"
      },
      "id": "7mDWtIZEcqee",
      "execution_count": 6,
      "outputs": []
    },
    {
      "cell_type": "code",
      "source": [
        "num = int(input (\"Enter the number:\"))\n",
        "if num < 0:\n",
        "   print(\"Plese enter a positive integer\")\n",
        "else:\n",
        "   print(\"Factorial of {0} is :\".format(num),fact(num))"
      ],
      "metadata": {
        "colab": {
          "base_uri": "https://localhost:8080/"
        },
        "id": "JhP8gN3mdSti",
        "outputId": "717bbdd3-289c-4b43-a692-7fad6ebb49a5"
      },
      "id": "JhP8gN3mdSti",
      "execution_count": 17,
      "outputs": [
        {
          "output_type": "stream",
          "name": "stdout",
          "text": [
            "Enter the number:7\n",
            "Factorial of 7 is : 5040\n"
          ]
        }
      ]
    },
    {
      "cell_type": "markdown",
      "id": "0357b86f",
      "metadata": {
        "id": "0357b86f"
      },
      "source": [
        "### 3. Write a Python Program to calculate your Body Mass Index?"
      ]
    },
    {
      "cell_type": "code",
      "source": [
        "def BMI(height, weight):\n",
        "    bmi = weight/(height**2)\n",
        "    return bmi\n",
        "  \n"
      ],
      "metadata": {
        "id": "_J4tg9Elea2A"
      },
      "id": "_J4tg9Elea2A",
      "execution_count": 33,
      "outputs": []
    },
    {
      "cell_type": "code",
      "source": [
        "# Driver code\n",
        "height = float(input (\"Enter your height in meter:\"))\n",
        "weight = float(input (\"Enter your weight in kg:\"))\n",
        "  \n",
        "bmi = round(BMI(height, weight),2)\n",
        "print(\"Your BMI is {0}\".format(bmi))\n",
        "if (bmi < 18.5):\n",
        "    print(\"You are underweight\")\n",
        "elif ( bmi >= 18.5 and bmi < 25):\n",
        "    print(\"You are Healthy\")\n",
        "elif ( bmi >= 25 and bmi < 30):\n",
        "    print(\"You are overweight\")\n",
        "elif ( bmi >=30):\n",
        "    print(\"You are Suffering from Obesity\")"
      ],
      "metadata": {
        "colab": {
          "base_uri": "https://localhost:8080/"
        },
        "id": "jsC_B6iXfFCD",
        "outputId": "34a30784-31d3-4e9e-aee2-df9db61e020a"
      },
      "id": "jsC_B6iXfFCD",
      "execution_count": 34,
      "outputs": [
        {
          "output_type": "stream",
          "name": "stdout",
          "text": [
            "Enter your height in meter:1.7\n",
            "Enter your weight in kg:74.8\n",
            "Your BMI is 25.88\n",
            "You are overweight\n"
          ]
        }
      ]
    },
    {
      "cell_type": "markdown",
      "id": "96d344a4",
      "metadata": {
        "id": "96d344a4"
      },
      "source": [
        "### 4. Write a Python Program to calculate the natural logarithm of any number?"
      ]
    },
    {
      "cell_type": "code",
      "source": [
        "import math\n",
        "num = float(input (\"Enter the number:\"))\n",
        "if num <=0:\n",
        "  print(\"Enter positive number only\")\n",
        "else:\n",
        "\n",
        "  print (\"Natural logarithm of {0} is : \".format(num),round(math.log(num),4))\n",
        "\n",
        " \n"
      ],
      "metadata": {
        "colab": {
          "base_uri": "https://localhost:8080/"
        },
        "id": "x2vrN1V3i19s",
        "outputId": "cfeb7dd5-1e75-4e45-ebc7-4e87d1128e27"
      },
      "id": "x2vrN1V3i19s",
      "execution_count": 42,
      "outputs": [
        {
          "output_type": "stream",
          "name": "stdout",
          "text": [
            "Enter the number:4\n",
            "Natural logarithm of 4.0 is :  1.3863\n"
          ]
        }
      ]
    },
    {
      "cell_type": "markdown",
      "id": "11c0d92c",
      "metadata": {
        "id": "11c0d92c"
      },
      "source": [
        "\n",
        "### 5. Write a Python Program for cube sum of first n natural numbers?\n"
      ]
    },
    {
      "cell_type": "code",
      "source": [
        "def cubesum(n):\n",
        "    sum = 0\n",
        "    for i in range(1, n+1):\n",
        "        sum +=pow(i,3)     \n",
        "    return sum\n",
        " "
      ],
      "metadata": {
        "id": "s90WxF7wi27U"
      },
      "id": "s90WxF7wi27U",
      "execution_count": 35,
      "outputs": []
    },
    {
      "cell_type": "code",
      "source": [
        "n = int(input (\"Enter the number:\"))\n",
        "\n",
        "print(cubesum(n))"
      ],
      "metadata": {
        "colab": {
          "base_uri": "https://localhost:8080/"
        },
        "id": "9n3LxoZBiwrh",
        "outputId": "d361abd7-a622-4757-8f83-529b8b6f47d9"
      },
      "id": "9n3LxoZBiwrh",
      "execution_count": 37,
      "outputs": [
        {
          "output_type": "stream",
          "name": "stdout",
          "text": [
            "Enter the number:4\n",
            "100\n"
          ]
        }
      ]
    },
    {
      "cell_type": "code",
      "source": [],
      "metadata": {
        "id": "GWQa4RNKjfqp"
      },
      "id": "GWQa4RNKjfqp",
      "execution_count": null,
      "outputs": []
    }
  ],
  "metadata": {
    "kernelspec": {
      "display_name": "Python 3 (ipykernel)",
      "language": "python",
      "name": "python3"
    },
    "language_info": {
      "codemirror_mode": {
        "name": "ipython",
        "version": 3
      },
      "file_extension": ".py",
      "mimetype": "text/x-python",
      "name": "python",
      "nbconvert_exporter": "python",
      "pygments_lexer": "ipython3",
      "version": "3.9.12"
    },
    "colab": {
      "provenance": []
    }
  },
  "nbformat": 4,
  "nbformat_minor": 5
}