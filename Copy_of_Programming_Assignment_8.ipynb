{
  "cells": [
    {
      "cell_type": "markdown",
      "id": "9b304197",
      "metadata": {
        "id": "9b304197"
      },
      "source": [
        "# Python Basic Programming Assignment 8"
      ]
    },
    {
      "cell_type": "markdown",
      "id": "22789ae6",
      "metadata": {
        "id": "22789ae6"
      },
      "source": [
        "### 1. Write a Python Program to Add Two Matrices?\n",
        "\n",
        "---\n",
        "\n"
      ]
    },
    {
      "cell_type": "code",
      "source": [
        "X =   [[1,2,3],  \n",
        "       [4,5,6],  \n",
        "       [7,8,9]]  \n",
        "  \n",
        "Y =   [[10,11,12],  \n",
        "       [13,14,15],  \n",
        "       [16,17,18]]  \n",
        "  \n",
        "result =       [[0,0,0],  \n",
        "                [0,0,0],  \n",
        "                [0,0,0]]    \n",
        "for i in range(len(X)):   \n",
        "   for j in range(len(X[0])):  \n",
        "       result[i][j] = X[i][j] + Y[i][j]  \n",
        "for r in result:  \n",
        "   print(r)  "
      ],
      "metadata": {
        "id": "7rLHSr7bvnFS",
        "colab": {
          "base_uri": "https://localhost:8080/"
        },
        "outputId": "07480f9f-d4be-4eec-baf3-447140b6f8a4"
      },
      "id": "7rLHSr7bvnFS",
      "execution_count": 2,
      "outputs": [
        {
          "output_type": "stream",
          "name": "stdout",
          "text": [
            "[11, 13, 15]\n",
            "[17, 19, 21]\n",
            "[23, 25, 27]\n"
          ]
        }
      ]
    },
    {
      "cell_type": "markdown",
      "id": "044ceda6",
      "metadata": {
        "id": "044ceda6"
      },
      "source": [
        "### 2. Write a Python Program to Multiply Two Matrices?"
      ]
    },
    {
      "cell_type": "code",
      "source": [
        "A = [[12, 7, 3],\n",
        "    [4, 5, 6],\n",
        "    [7, 8, 9]]\n",
        "B = [[5, 8, 1, 2],\n",
        "    [6, 7, 3, 0],\n",
        "    [4, 5, 9, 1]]\n",
        "     \n",
        "result = [[0, 0, 0, 0],\n",
        "        [0, 0, 0, 0],\n",
        "        [0, 0, 0, 0]]\n",
        "for i in range(len(A)):\n",
        "    for j in range(len(B[0])):\n",
        "        for k in range(len(B)):\n",
        "            result[i][j] += A[i][k] * B[k][j]\n",
        " \n",
        "for r in result:\n",
        "    print(r)"
      ],
      "metadata": {
        "id": "h6NiwRJtvnyJ",
        "colab": {
          "base_uri": "https://localhost:8080/"
        },
        "outputId": "c3fac5cb-1584-43dd-99b1-faec1dd85acd"
      },
      "id": "h6NiwRJtvnyJ",
      "execution_count": 2,
      "outputs": [
        {
          "output_type": "stream",
          "name": "stdout",
          "text": [
            "[114, 160, 60, 27]\n",
            "[74, 97, 73, 14]\n",
            "[119, 157, 112, 23]\n"
          ]
        }
      ]
    },
    {
      "cell_type": "markdown",
      "id": "5f688e46",
      "metadata": {
        "id": "5f688e46"
      },
      "source": [
        "### 3. Write a Python Program to Transpose a Matrix?"
      ]
    },
    {
      "cell_type": "code",
      "source": [
        " \n",
        "def transpose(A,B):\n",
        " \n",
        " for i in range(len(A)):\n",
        "   for j in range(len(A)):     \n",
        "     B[i][j] = A[j][i]\n",
        "A = [ [1, 1, 1, 1],\n",
        " [2, 2, 2, 2],\n",
        " [3, 3, 3, 3],\n",
        " [4, 4, 4, 4]]\n",
        " \n",
        " \n",
        "B = A[:][:]\n",
        " \n",
        "transpose(A, B)\n",
        " \n",
        "print(\"Result matrix is\")\n",
        "for i in range(len(A)):\n",
        " for j in range(len(A)):\n",
        "  print(B[i][j], \" \", end='')\n",
        " print()"
      ],
      "metadata": {
        "id": "V1RqmDBuvoyl",
        "colab": {
          "base_uri": "https://localhost:8080/"
        },
        "outputId": "72e61340-bdeb-47c0-8372-b5523f12e1f9"
      },
      "id": "V1RqmDBuvoyl",
      "execution_count": 13,
      "outputs": [
        {
          "output_type": "stream",
          "name": "stdout",
          "text": [
            "Result matrix is\n",
            "1  2  3  4  \n",
            "2  2  3  4  \n",
            "3  3  3  4  \n",
            "4  4  4  4  \n"
          ]
        }
      ]
    },
    {
      "cell_type": "markdown",
      "id": "b2849025",
      "metadata": {
        "id": "b2849025"
      },
      "source": [
        "\n",
        "### 4. Write a Python Program to Sort Words in Alphabetic Order?\n"
      ]
    },
    {
      "cell_type": "code",
      "source": [
        "num=int(input(\"Enter how many words you want to enter:\"))\n",
        "list1=[]\n",
        "for i in range(num):\n",
        "  inp_word=input(\"Enter {} word:\".format(i+1))\n",
        "  list1.append(inp_word)\n",
        "print(\"The input list is\",list1)\n",
        "print(\"The sorted list is\",sorted(list1))\n"
      ],
      "metadata": {
        "id": "Qk_W6BFHvpcL",
        "colab": {
          "base_uri": "https://localhost:8080/"
        },
        "outputId": "4f4fa7cf-31fb-46c7-b8a2-207bb67832f7"
      },
      "id": "Qk_W6BFHvpcL",
      "execution_count": 6,
      "outputs": [
        {
          "output_type": "stream",
          "name": "stdout",
          "text": [
            "Enter how many words you want to enter:6\n",
            "Enter 1 word:wolf\n",
            "Enter 2 word:tiger\n",
            "Enter 3 word:apple\n",
            "Enter 4 word:mango\n",
            "Enter 5 word:zinc\n",
            "Enter 6 word:cat\n",
            "The input list is ['wolf', 'tiger', 'apple', 'mango', 'zinc', 'cat']\n",
            "The sorted list is ['apple', 'cat', 'mango', 'tiger', 'wolf', 'zinc']\n"
          ]
        }
      ]
    },
    {
      "cell_type": "markdown",
      "id": "48ac7b24",
      "metadata": {
        "id": "48ac7b24"
      },
      "source": [
        "### 5. Write a Python Program to Remove Punctuation From a String?"
      ]
    },
    {
      "cell_type": "code",
      "source": [
        "def remove_punctuation(inp_text):\n",
        "    punctuations = '''!()-[]{};:'\"\\,<>./?@#$%^&*_~'''\n",
        "    for i in inp_text.lower():\n",
        "        if i in punctuations:\n",
        "            inp_text = inp_text.replace(i, \"\")\n",
        "    return inp_text\n",
        "  "
      ],
      "metadata": {
        "id": "hMX7SEDdvqvT"
      },
      "id": "hMX7SEDdvqvT",
      "execution_count": 9,
      "outputs": []
    },
    {
      "cell_type": "code",
      "source": [
        "inp_text = input(\"Enter how many words you want to enter:\")\n",
        "print(\"Before removing punctuations: \",inp_text)\n",
        "print(\"After removing punctuations: \",remove_punctuation(inp_text))"
      ],
      "metadata": {
        "colab": {
          "base_uri": "https://localhost:8080/"
        },
        "id": "CGxZ89fs246V",
        "outputId": "77479241-9ab1-4ca3-c7bb-b59d66c8e10f"
      },
      "id": "CGxZ89fs246V",
      "execution_count": 11,
      "outputs": [
        {
          "output_type": "stream",
          "name": "stdout",
          "text": [
            "Enter how many words you want to enter:asv /, 56 >@bdbk# % ~\n",
            "Before removing punctuations:  asv /, 56 >@bdbk# % ~\n",
            "After removing punctuations:  asv  56 bdbk  \n"
          ]
        }
      ]
    },
    {
      "cell_type": "code",
      "source": [],
      "metadata": {
        "id": "jpjl9z9L3VsW"
      },
      "id": "jpjl9z9L3VsW",
      "execution_count": 11,
      "outputs": []
    }
  ],
  "metadata": {
    "kernelspec": {
      "display_name": "Python 3 (ipykernel)",
      "language": "python",
      "name": "python3"
    },
    "language_info": {
      "codemirror_mode": {
        "name": "ipython",
        "version": 3
      },
      "file_extension": ".py",
      "mimetype": "text/x-python",
      "name": "python",
      "nbconvert_exporter": "python",
      "pygments_lexer": "ipython3",
      "version": "3.9.12"
    },
    "colab": {
      "provenance": []
    }
  },
  "nbformat": 4,
  "nbformat_minor": 5
}