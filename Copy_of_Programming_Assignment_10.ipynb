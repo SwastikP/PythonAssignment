{
  "cells": [
    {
      "cell_type": "markdown",
      "id": "3dcb940f",
      "metadata": {
        "id": "3dcb940f"
      },
      "source": [
        "## Python Basic Programming Assignment 10"
      ]
    },
    {
      "cell_type": "markdown",
      "id": "6720790a",
      "metadata": {
        "id": "6720790a"
      },
      "source": [
        "### 1. Write a Python program to find sum of elements in list?"
      ]
    },
    {
      "cell_type": "code",
      "source": [
        "num=int(input(\"Enter how many number you want to enter:\"))\n",
        "list1=[]\n",
        "sum=0\n",
        "for i in range(num):\n",
        "  inp_number=input(\"Enter {} number:\".format(i+1))\n",
        "  list1.append(int(inp_number))\n",
        "print(\"The input list is\",list1)\n",
        "for j in list1:\n",
        "  sum+=j\n",
        "print(\"The sum of list is\",sum)"
      ],
      "metadata": {
        "id": "wD0vw9GAY3eO",
        "colab": {
          "base_uri": "https://localhost:8080/"
        },
        "outputId": "4273d829-80fa-4ca0-a575-1b762582ec3e"
      },
      "id": "wD0vw9GAY3eO",
      "execution_count": 3,
      "outputs": [
        {
          "output_type": "stream",
          "name": "stdout",
          "text": [
            "Enter how many number you want to enter:5\n",
            "Enter 1 number:4\n",
            "Enter 2 number:5\n",
            "Enter 3 number:6\n",
            "Enter 4 number:9\n",
            "Enter 5 number:0\n",
            "The input list is [4, 5, 6, 9, 0]\n",
            "The sum of list is 24\n"
          ]
        }
      ]
    },
    {
      "cell_type": "markdown",
      "id": "fe1137c3",
      "metadata": {
        "id": "fe1137c3"
      },
      "source": [
        "### 2. Write a Python program to  Multiply all numbers in the list?"
      ]
    },
    {
      "cell_type": "code",
      "source": [
        "num=int(input(\"Enter how many number you want to enter:\"))\n",
        "list1=[]\n",
        "mul=1\n",
        "for i in range(num):\n",
        "  inp_number=input(\"Enter {} number:\".format(i+1))\n",
        "  list1.append(int(inp_number))\n",
        "print(\"The input list is\",list1)\n",
        "for j in list1:\n",
        "  mul*=j\n",
        "print(\"The multiplication of list is\",mul)"
      ],
      "metadata": {
        "id": "J4rp6XnLY4Wv",
        "colab": {
          "base_uri": "https://localhost:8080/"
        },
        "outputId": "1dc17b80-ea1b-4de1-9fd8-a3c2b197c612"
      },
      "id": "J4rp6XnLY4Wv",
      "execution_count": 5,
      "outputs": [
        {
          "output_type": "stream",
          "name": "stdout",
          "text": [
            "Enter how many number you want to enter:5\n",
            "Enter 1 number:65\n",
            "Enter 2 number:24\n",
            "Enter 3 number:6\n",
            "Enter 4 number:22\n",
            "Enter 5 number:59\n",
            "The input list is [65, 24, 6, 22, 59]\n",
            "The multiplication of list is 12149280\n"
          ]
        }
      ]
    },
    {
      "cell_type": "markdown",
      "id": "078681db",
      "metadata": {
        "id": "078681db"
      },
      "source": [
        "### 3. Write a Python program to find smallest number in a list?"
      ]
    },
    {
      "cell_type": "code",
      "source": [
        "num=int(input(\"Enter how many number you want to enter:\"))\n",
        "list1=[]\n",
        "for i in range(num):\n",
        "  inp_number=input(\"Enter {} number:\".format(i+1))\n",
        "  list1.append(int(inp_number))\n",
        "print(\"The input list is\",list1)\n",
        "print(\"The smallest in list is\",min(list1))"
      ],
      "metadata": {
        "id": "h5Ch_aliY4_c",
        "colab": {
          "base_uri": "https://localhost:8080/"
        },
        "outputId": "a91dfef4-492f-4b71-9092-ad2171d853f3"
      },
      "id": "h5Ch_aliY4_c",
      "execution_count": 7,
      "outputs": [
        {
          "output_type": "stream",
          "name": "stdout",
          "text": [
            "Enter how many number you want to enter:6\n",
            "Enter 1 number:99\n",
            "Enter 2 number:0\n",
            "Enter 3 number:-66\n",
            "Enter 4 number:123\n",
            "Enter 5 number:55\n",
            "Enter 6 number:-12\n",
            "The input list is [99, 0, -66, 123, 55, -12]\n",
            "The smallest in list is -66\n"
          ]
        }
      ]
    },
    {
      "cell_type": "markdown",
      "id": "12b04397",
      "metadata": {
        "id": "12b04397"
      },
      "source": [
        "### 4. Write a Python program to find largest number in a list?"
      ]
    },
    {
      "cell_type": "code",
      "source": [
        "num=int(input(\"Enter how many number you want to enter:\"))\n",
        "list1=[]\n",
        "for i in range(num):\n",
        "  inp_number=input(\"Enter {} number:\".format(i+1))\n",
        "  list1.append(int(inp_number))\n",
        "print(\"The input list is\",list1)\n",
        "print(\"The largest in list is\",max(list1))"
      ],
      "metadata": {
        "colab": {
          "base_uri": "https://localhost:8080/"
        },
        "id": "aD4668GRZ1hd",
        "outputId": "5c319efb-d055-43a7-da28-2afcf648d993"
      },
      "id": "aD4668GRZ1hd",
      "execution_count": 8,
      "outputs": [
        {
          "output_type": "stream",
          "name": "stdout",
          "text": [
            "Enter how many number you want to enter:5\n",
            "Enter 1 number:-9\n",
            "Enter 2 number:9\n",
            "Enter 3 number:0\n",
            "Enter 4 number:66\n",
            "Enter 5 number:-99\n",
            "The input list is [-9, 9, 0, 66, -99]\n",
            "The largest in list is 66\n"
          ]
        }
      ]
    },
    {
      "cell_type": "markdown",
      "id": "86442b51",
      "metadata": {
        "id": "86442b51"
      },
      "source": [
        "### 5. Write a Python program to find second largest number in a list?"
      ]
    },
    {
      "cell_type": "code",
      "source": [
        "num=int(input(\"Enter how many number you want to enter:\"))\n",
        "list1=[]\n",
        "for i in range(num):\n",
        "  inp_number=input(\"Enter {} number:\".format(i+1))\n",
        "  list1.append(int(inp_number))\n",
        "print(\"The input list is\",list1)\n",
        "list1.sort(reverse=True)\n",
        "print(\"Second largest element is:\", list1[1])"
      ],
      "metadata": {
        "colab": {
          "base_uri": "https://localhost:8080/"
        },
        "id": "HUqjuR7tbEYu",
        "outputId": "324fb98a-b73c-4409-c802-a1068dcbca88"
      },
      "id": "HUqjuR7tbEYu",
      "execution_count": 10,
      "outputs": [
        {
          "output_type": "stream",
          "name": "stdout",
          "text": [
            "Enter how many number you want to enter:5\n",
            "Enter 1 number:22\n",
            "Enter 2 number:54\n",
            "Enter 3 number:223\n",
            "Enter 4 number:-6\n",
            "Enter 5 number:0\n",
            "The input list is [22, 54, 223, -6, 0]\n",
            "Second largest element is: 54\n"
          ]
        }
      ]
    },
    {
      "cell_type": "markdown",
      "id": "10964d7d",
      "metadata": {
        "id": "10964d7d"
      },
      "source": [
        "### 6. Write a Python program to find N largest elements from a list?"
      ]
    },
    {
      "cell_type": "code",
      "source": [
        "num=int(input(\"Enter how many number you want to enter:\"))\n",
        "list1=[]\n",
        "for i in range(num):\n",
        "  inp_number=input(\"Enter {} number:\".format(i+1))\n",
        "  list1.append(int(inp_number))\n",
        "print(\"The input list is\",list1)\n",
        "Nlargest=int(input(\"Enter which largest value you want:\"))\n",
        "\n",
        "list1.sort(reverse=True)\n",
        "print(\"{} largest element is:\".format(Nlargest), list1[Nlargest-1])"
      ],
      "metadata": {
        "colab": {
          "base_uri": "https://localhost:8080/"
        },
        "id": "EPJwo6rzcEzb",
        "outputId": "fb9d099a-1ada-4bab-9858-125e9a5318e3"
      },
      "id": "EPJwo6rzcEzb",
      "execution_count": 12,
      "outputs": [
        {
          "output_type": "stream",
          "name": "stdout",
          "text": [
            "Enter how many number you want to enter:5\n",
            "Enter 1 number:5\n",
            "Enter 2 number:1\n",
            "Enter 3 number:-9\n",
            "Enter 4 number:66\n",
            "Enter 5 number:0\n",
            "The input list is [5, 1, -9, 66, 0]\n",
            "Enter which largest value you want:3\n",
            "3 largest element is: 1\n"
          ]
        }
      ]
    },
    {
      "cell_type": "markdown",
      "id": "2f1a1e98",
      "metadata": {
        "id": "2f1a1e98"
      },
      "source": [
        "### 7. Write a Python program to print even numbers in a list?"
      ]
    },
    {
      "cell_type": "code",
      "source": [
        "num=int(input(\"Enter how many number you want to enter:\"))\n",
        "list1=[]\n",
        "for i in range(num):\n",
        "  inp_number=input(\"Enter {} number:\".format(i+1))\n",
        "  list1.append(int(inp_number))\n",
        "print(\"The input list is\",list1)\n",
        "list2=[]\n",
        "for i in list1:\n",
        "  if i%2==0:\n",
        "    list2.append(i)\n",
        "print(\"Even number from the list are:\",list2)"
      ],
      "metadata": {
        "colab": {
          "base_uri": "https://localhost:8080/"
        },
        "id": "MJCr_OzQcFYB",
        "outputId": "44f7cb72-d49c-43e3-97ce-bc84a842bec4"
      },
      "id": "MJCr_OzQcFYB",
      "execution_count": 14,
      "outputs": [
        {
          "output_type": "stream",
          "name": "stdout",
          "text": [
            "Enter how many number you want to enter:9\n",
            "Enter 1 number:45\n",
            "Enter 2 number:66\n",
            "Enter 3 number:456\n",
            "Enter 4 number:25\n",
            "Enter 5 number:12\n",
            "Enter 6 number:9\n",
            "Enter 7 number:75\n",
            "Enter 8 number:44\n",
            "Enter 9 number:98\n",
            "The input list is [45, 66, 456, 25, 12, 9, 75, 44, 98]\n",
            "Even number from the list are: [66, 456, 12, 44, 98]\n"
          ]
        }
      ]
    },
    {
      "cell_type": "markdown",
      "id": "989bb324",
      "metadata": {
        "id": "989bb324"
      },
      "source": [
        "### 8. Write a Python program to print odd numbers in a List?"
      ]
    },
    {
      "cell_type": "code",
      "source": [
        "num=int(input(\"Enter how many number you want to enter:\"))\n",
        "list1=[]\n",
        "for i in range(num):\n",
        "  inp_number=input(\"Enter {} number:\".format(i+1))\n",
        "  list1.append(int(inp_number))\n",
        "print(\"The input list is\",list1)\n",
        "list2=[]\n",
        "for i in list1:\n",
        "  if i%2!=0:\n",
        "    list2.append(i)\n",
        "print(\"Odd number from the list are:\",list2)"
      ],
      "metadata": {
        "colab": {
          "base_uri": "https://localhost:8080/"
        },
        "id": "kgN00ume0_b7",
        "outputId": "746c38aa-02b3-44c1-fc18-ed9c53e1d256"
      },
      "id": "kgN00ume0_b7",
      "execution_count": 16,
      "outputs": [
        {
          "output_type": "stream",
          "name": "stdout",
          "text": [
            "Enter how many number you want to enter:7\n",
            "Enter 1 number:85\n",
            "Enter 2 number:66\n",
            "Enter 3 number:22\n",
            "Enter 4 number:31\n",
            "Enter 5 number:45\n",
            "Enter 6 number:20\n",
            "Enter 7 number:99\n",
            "The input list is [85, 66, 22, 31, 45, 20, 99]\n",
            "Odd number from the list are: [85, 31, 45, 99]\n"
          ]
        }
      ]
    },
    {
      "cell_type": "markdown",
      "id": "185b7b13",
      "metadata": {
        "id": "185b7b13"
      },
      "source": [
        "### 9. Write a Python program to Remove empty List from List?"
      ]
    },
    {
      "cell_type": "code",
      "source": [
        "list1 = [5, 6, [], 3, [], [], 9]\n",
        "print(\"The input list is : \" + str(list1))\n",
        "res = [ele for ele in list1 if ele != []]\n",
        "print(\"List after empty list removal : \" + str(res))"
      ],
      "metadata": {
        "colab": {
          "base_uri": "https://localhost:8080/"
        },
        "id": "4T8ZYeJc1iSc",
        "outputId": "5400a10d-243f-4750-bb87-c92344c61a0c"
      },
      "id": "4T8ZYeJc1iSc",
      "execution_count": 18,
      "outputs": [
        {
          "output_type": "stream",
          "name": "stdout",
          "text": [
            "The input list is : [5, 6, [], 3, [], [], 9]\n",
            "List after empty list removal : [5, 6, 3, 9]\n"
          ]
        }
      ]
    },
    {
      "cell_type": "markdown",
      "id": "278cfacc",
      "metadata": {
        "id": "278cfacc"
      },
      "source": [
        "### 10. Write a Python program to Cloning or Copying a list?"
      ]
    },
    {
      "cell_type": "code",
      "source": [
        "list1=[1,2,3,4,5]\n",
        "list2=list1.copy()\n",
        "print(list2)"
      ],
      "metadata": {
        "colab": {
          "base_uri": "https://localhost:8080/"
        },
        "id": "eTXwQGXT2TKI",
        "outputId": "6ee2306d-6b68-439c-92de-fc0f58626a66"
      },
      "id": "eTXwQGXT2TKI",
      "execution_count": 20,
      "outputs": [
        {
          "output_type": "stream",
          "name": "stdout",
          "text": [
            "[1, 2, 3, 4, 5]\n"
          ]
        }
      ]
    },
    {
      "cell_type": "markdown",
      "id": "b359bedf",
      "metadata": {
        "id": "b359bedf"
      },
      "source": [
        "### 11. Write a Python program to Count occurrences of an element in a list?"
      ]
    },
    {
      "cell_type": "code",
      "source": [
        "list1=[1,1,2,5,1,6,15,1,\"s\",1,\"s1\",\"s\",\"m\"]\n",
        "list2=[]\n",
        "ele=input(\"Which element you want to find:\")\n",
        "for i in list1:\n",
        "  list2.append(str(i))\n",
        "print(list2.count(ele))"
      ],
      "metadata": {
        "colab": {
          "base_uri": "https://localhost:8080/"
        },
        "id": "xXYZzHxc2T3a",
        "outputId": "db7e53c1-4c83-428e-8f76-716bc9cc2169"
      },
      "id": "xXYZzHxc2T3a",
      "execution_count": 25,
      "outputs": [
        {
          "output_type": "stream",
          "name": "stdout",
          "text": [
            "Which element you want to find:s\n",
            "2\n"
          ]
        }
      ]
    },
    {
      "cell_type": "code",
      "source": [
        "list1=[1,1,2,5,1,6,15,1,\"s\",1,\"s1\",\"s\",\"m\"]\n",
        "list2=[]\n",
        "ele=input(\"Which element you want to find:\")\n",
        "for i in list1:\n",
        "  list2.append(str(i))\n",
        "print(list2.count(ele))"
      ],
      "metadata": {
        "colab": {
          "base_uri": "https://localhost:8080/"
        },
        "id": "1OE1W9tJ3Wor",
        "outputId": "76c3b7f2-9fbb-4062-e5cd-572f34797b05"
      },
      "id": "1OE1W9tJ3Wor",
      "execution_count": 26,
      "outputs": [
        {
          "output_type": "stream",
          "name": "stdout",
          "text": [
            "Which element you want to find:1\n",
            "5\n"
          ]
        }
      ]
    },
    {
      "cell_type": "code",
      "source": [],
      "metadata": {
        "id": "h4oq6If_5NwC"
      },
      "id": "h4oq6If_5NwC",
      "execution_count": null,
      "outputs": []
    }
  ],
  "metadata": {
    "kernelspec": {
      "display_name": "Python 3 (ipykernel)",
      "language": "python",
      "name": "python3"
    },
    "language_info": {
      "codemirror_mode": {
        "name": "ipython",
        "version": 3
      },
      "file_extension": ".py",
      "mimetype": "text/x-python",
      "name": "python",
      "nbconvert_exporter": "python",
      "pygments_lexer": "ipython3",
      "version": "3.9.12"
    },
    "colab": {
      "provenance": []
    }
  },
  "nbformat": 4,
  "nbformat_minor": 5
}