{
  "cells": [
    {
      "cell_type": "markdown",
      "metadata": {
        "id": "view-in-github",
        "colab_type": "text"
      },
      "source": [
        "<a href=\"https://colab.research.google.com/github/SwastikP/PythonAssignment/blob/main/Copy_of_Programming_Assignment_12.ipynb\" target=\"_parent\"><img src=\"https://colab.research.google.com/assets/colab-badge.svg\" alt=\"Open In Colab\"/></a>"
      ]
    },
    {
      "cell_type": "markdown",
      "id": "b7231b20",
      "metadata": {
        "id": "b7231b20"
      },
      "source": [
        "# Python Basic Programming Assignment 12\n",
        "-------------"
      ]
    },
    {
      "cell_type": "markdown",
      "id": "d2ec324d",
      "metadata": {
        "id": "d2ec324d"
      },
      "source": [
        "### 1. Write a Python program to Extract Unique values dictionary values?"
      ]
    },
    {
      "cell_type": "code",
      "source": [
        "def extract_unique_values(dictionary):\n",
        "    unique_values = set()\n",
        "    for value_list in dictionary.values():\n",
        "        for value in value_list:\n",
        "            unique_values.add(value)\n",
        "    return unique_values\n",
        "\n",
        "\n"
      ],
      "metadata": {
        "id": "XJoOIU-ofe4b"
      },
      "id": "XJoOIU-ofe4b",
      "execution_count": 4,
      "outputs": []
    },
    {
      "cell_type": "code",
      "source": [
        "dict1 = {\n",
        "    'key1': [1, 2, 3, 4],\n",
        "    'key2': [2, 3, 4, 5],\n",
        "    'key3': [3, 4, 5, 6]\n",
        "}\n",
        "\n",
        "unique_values = extract_unique_values(dict1)\n",
        "print(list(unique_values))"
      ],
      "metadata": {
        "colab": {
          "base_uri": "https://localhost:8080/"
        },
        "id": "D01SW2pjjBJx",
        "outputId": "e5134f8b-2ae7-4904-d3a9-937cc9b686e0"
      },
      "id": "D01SW2pjjBJx",
      "execution_count": 7,
      "outputs": [
        {
          "output_type": "stream",
          "name": "stdout",
          "text": [
            "[1, 2, 3, 4, 5, 6]\n"
          ]
        }
      ]
    },
    {
      "cell_type": "markdown",
      "id": "203bcbc3",
      "metadata": {
        "id": "203bcbc3"
      },
      "source": [
        "### 2. Write a Python program to find the sum of all items in a dictionary?"
      ]
    },
    {
      "cell_type": "code",
      "source": [
        "def sum_dictionary_items(dictionary):\n",
        "    l1=[]\n",
        "    for value_list in dictionary.values():\n",
        "        for value in value_list:\n",
        "            l1.append(value)\n",
        "    total_sum=0\n",
        "    for i in l1:\n",
        "      total_sum+=i\n",
        "\n",
        "    #total_sum = sum(dictionary.values())\n",
        "    return total_sum\n",
        "\n"
      ],
      "metadata": {
        "id": "S0qGARBjjoXQ"
      },
      "id": "S0qGARBjjoXQ",
      "execution_count": 14,
      "outputs": []
    },
    {
      "cell_type": "code",
      "source": [
        "dict1 = {\n",
        "    'key1': [1, 2, 3, 4],\n",
        "    'key2': [2, 3, 4, 5],\n",
        "    'key3': [3, 4, 5, 6]\n",
        "}\n",
        "\n",
        "dictionary_sum = sum_dictionary_items(dict1)\n",
        "\n",
        "print(\"Sum of all items in the dictionary:\", dictionary_sum)"
      ],
      "metadata": {
        "colab": {
          "base_uri": "https://localhost:8080/"
        },
        "id": "XvWHUf4yjxUe",
        "outputId": "f5838434-bc5f-4ee3-81ef-0d641b61c8d1"
      },
      "id": "XvWHUf4yjxUe",
      "execution_count": 15,
      "outputs": [
        {
          "output_type": "stream",
          "name": "stdout",
          "text": [
            "Sum of all items in the dictionary: 42\n"
          ]
        }
      ]
    },
    {
      "cell_type": "markdown",
      "id": "edfbc682",
      "metadata": {
        "id": "edfbc682"
      },
      "source": [
        "### 3. Write a Python program to Merging two Dictionaries?"
      ]
    },
    {
      "cell_type": "code",
      "source": [
        "def merge_dictionaries(dict1, dict2):\n",
        "    merged_dict = {**dict1, **dict2}\n",
        "    return merged_dict\n",
        "\n"
      ],
      "metadata": {
        "id": "_jV0Zknpk1Rb"
      },
      "id": "_jV0Zknpk1Rb",
      "execution_count": 17,
      "outputs": []
    },
    {
      "cell_type": "code",
      "source": [
        "\n",
        "dict1 = {'a': 1, 'b': 2}\n",
        "dict2 = {'c': 3, 'd': 4}\n",
        "\n",
        "merged_dict = merge_dictionaries(dict1, dict2)\n",
        "\n",
        "print(\"Merged dictionary:\", merged_dict)"
      ],
      "metadata": {
        "colab": {
          "base_uri": "https://localhost:8080/"
        },
        "id": "Gz-bzQ8x2q0N",
        "outputId": "618c9702-1af1-454c-ce8e-ed74e746672e"
      },
      "id": "Gz-bzQ8x2q0N",
      "execution_count": 18,
      "outputs": [
        {
          "output_type": "stream",
          "name": "stdout",
          "text": [
            "Merged dictionary: {'a': 1, 'b': 2, 'c': 3, 'd': 4}\n"
          ]
        }
      ]
    },
    {
      "cell_type": "markdown",
      "id": "62eaf687",
      "metadata": {
        "id": "62eaf687"
      },
      "source": [
        "### 4. Write a Python program to convert key-values list to flat dictionary?"
      ]
    },
    {
      "cell_type": "code",
      "source": [
        "def convert_to_flat_dictionary(key_value_list):\n",
        "    flat_dict = {}\n",
        "    for key, value in key_value_list:\n",
        "        flat_dict[key] = value\n",
        "    return flat_dict\n",
        "\n"
      ],
      "metadata": {
        "id": "N3gYteml3DJ4"
      },
      "id": "N3gYteml3DJ4",
      "execution_count": 19,
      "outputs": []
    },
    {
      "cell_type": "code",
      "source": [
        "key_value_list = [('a', 11), ('b', 12), ('c', 13), ('d', 14)]\n",
        "\n",
        "flat_dictionary = convert_to_flat_dictionary(key_value_list)\n",
        "\n",
        "print(\"Flat dictionary:\", flat_dictionary)\n"
      ],
      "metadata": {
        "colab": {
          "base_uri": "https://localhost:8080/"
        },
        "id": "iPIYuDQw3Fl7",
        "outputId": "a0d1e305-9c73-4160-fb56-c90a6667fd4d"
      },
      "id": "iPIYuDQw3Fl7",
      "execution_count": 21,
      "outputs": [
        {
          "output_type": "stream",
          "name": "stdout",
          "text": [
            "Flat dictionary: {'a': 11, 'b': 12, 'c': 13, 'd': 14}\n"
          ]
        }
      ]
    },
    {
      "cell_type": "markdown",
      "id": "fcc5015f",
      "metadata": {
        "id": "fcc5015f"
      },
      "source": [
        "### 5. Write a Python program to insertion at the beginning in OrderedDict?"
      ]
    },
    {
      "cell_type": "code",
      "source": [
        "from collections import OrderedDict\n",
        "\n",
        "def insert_at_beginning(ordered_dict, key, value):\n",
        "    ordered_dict[key] = value\n",
        "    ordered_dict.move_to_end(key, last=False)\n",
        "\n",
        "my_ordered_dict = OrderedDict()\n",
        "\n",
        "insert_at_beginning(my_ordered_dict, 'a', 21)\n",
        "insert_at_beginning(my_ordered_dict, 'b', 22)\n",
        "insert_at_beginning(my_ordered_dict, 'c', 23)\n",
        "\n",
        "print(\"OrderedDict after insertion at the beginning:\")\n",
        "print(my_ordered_dict)\n"
      ],
      "metadata": {
        "colab": {
          "base_uri": "https://localhost:8080/"
        },
        "id": "KA54Djqg3aik",
        "outputId": "b39b6432-a6f4-48d0-b6f5-6cb3104ef053"
      },
      "id": "KA54Djqg3aik",
      "execution_count": 23,
      "outputs": [
        {
          "output_type": "stream",
          "name": "stdout",
          "text": [
            "OrderedDict after insertion at the beginning:\n",
            "OrderedDict([('c', 23), ('b', 22), ('a', 21)])\n"
          ]
        }
      ]
    },
    {
      "cell_type": "markdown",
      "id": "5978c9ab",
      "metadata": {
        "id": "5978c9ab"
      },
      "source": [
        "### 6. Write a Python program to check order of character in string using OrderedDict()?"
      ]
    },
    {
      "cell_type": "code",
      "source": [
        "from collections import OrderedDict\n",
        "\n",
        "def check_order_of_characters(string, pattern):\n",
        "    ordered_dict = OrderedDict.fromkeys(string)\n",
        "    pattern_length = 0\n",
        "\n",
        "    for key in ordered_dict:\n",
        "        if key == pattern[pattern_length]:\n",
        "            pattern_length += 1\n",
        "        if pattern_length == len(pattern):\n",
        "            return True\n",
        "    \n",
        "    return False\n",
        "\n",
        "my_string = \"Hello, World!\"\n",
        "my_pattern = \"Hlo\"\n",
        "\n",
        "\n",
        "result = check_order_of_characters(my_string, my_pattern)\n",
        "\n",
        "if result:\n",
        "    print(\"The order of characters in the string follows the pattern.\")\n",
        "else:\n",
        "    print(\"The order of characters in the string does not follow the pattern.\")\n"
      ],
      "metadata": {
        "colab": {
          "base_uri": "https://localhost:8080/"
        },
        "id": "4yWLbmrH37CS",
        "outputId": "91f27bba-5b81-46b9-ac5f-8771388bbd73"
      },
      "id": "4yWLbmrH37CS",
      "execution_count": 24,
      "outputs": [
        {
          "output_type": "stream",
          "name": "stdout",
          "text": [
            "The order of characters in the string follows the pattern.\n"
          ]
        }
      ]
    },
    {
      "cell_type": "markdown",
      "id": "f330da77",
      "metadata": {
        "id": "f330da77"
      },
      "source": [
        "### 7. Write a Python program to sort Python Dictionaries by Key or Value?"
      ]
    },
    {
      "cell_type": "code",
      "source": [
        "def sort_dictionary_by_key(dictionary):\n",
        "    sorted_dict = {}\n",
        "    for key in sorted(dictionary.keys()):\n",
        "        sorted_dict[key] = dictionary[key]\n",
        "    return sorted_dict\n",
        "\n",
        "def sort_dictionary_by_value(dictionary):\n",
        "    sorted_dict = {}\n",
        "    sorted_items = sorted(dictionary.items(), key=lambda item: item[1])\n",
        "    for key, value in sorted_items:\n",
        "        sorted_dict[key] = value\n",
        "    return sorted_dict\n",
        "\n",
        "my_dict = {'c': 3, 'a': 1, 'b': 2}\n",
        "\n",
        "sorted_by_key = sort_dictionary_by_key(my_dict)\n",
        "print(\"Dictionary sorted by key:\")\n",
        "print(sorted_by_key)\n",
        "\n",
        "sorted_by_value = sort_dictionary_by_value(my_dict)\n",
        "print(\"Dictionary sorted by value:\")\n",
        "print(sorted_by_value)\n"
      ],
      "metadata": {
        "colab": {
          "base_uri": "https://localhost:8080/"
        },
        "id": "iKgz4-AS4Oz2",
        "outputId": "7fb7a198-b4cc-4760-bb58-c434b2a72e11"
      },
      "id": "iKgz4-AS4Oz2",
      "execution_count": 25,
      "outputs": [
        {
          "output_type": "stream",
          "name": "stdout",
          "text": [
            "Dictionary sorted by key:\n",
            "{'a': 1, 'b': 2, 'c': 3}\n",
            "Dictionary sorted by value:\n",
            "{'a': 1, 'b': 2, 'c': 3}\n"
          ]
        }
      ]
    }
  ],
  "metadata": {
    "kernelspec": {
      "display_name": "Python 3 (ipykernel)",
      "language": "python",
      "name": "python3"
    },
    "language_info": {
      "codemirror_mode": {
        "name": "ipython",
        "version": 3
      },
      "file_extension": ".py",
      "mimetype": "text/x-python",
      "name": "python",
      "nbconvert_exporter": "python",
      "pygments_lexer": "ipython3",
      "version": "3.9.12"
    },
    "colab": {
      "provenance": [],
      "include_colab_link": true
    }
  },
  "nbformat": 4,
  "nbformat_minor": 5
}