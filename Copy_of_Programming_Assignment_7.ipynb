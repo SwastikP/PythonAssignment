{
  "cells": [
    {
      "cell_type": "markdown",
      "id": "35297a20",
      "metadata": {
        "id": "35297a20"
      },
      "source": [
        "## Programming Basic Assignment 7"
      ]
    },
    {
      "cell_type": "markdown",
      "id": "27349114",
      "metadata": {
        "id": "27349114"
      },
      "source": [
        "### 1. Write a Python Program to find sum of array?"
      ]
    },
    {
      "cell_type": "code",
      "source": [
        "import random\n",
        "list1=[]\n",
        "sum=0\n",
        "len=int(input (\"Enter length of list:\"))\n",
        "start =int(input (\"Enter starting vaule of list:\")) \n",
        "end = int(input (\"Enter ending value of list:\"))\n",
        "\n",
        "for i in range(len):\n",
        "  list1.append(random.randint(start, end))\n",
        "#list1 = [random.randint(start, end) for iter in range(len)]\n",
        "\n",
        "for s in list1:\n",
        "  sum+=s\n",
        "print(list1)\n",
        "print(sum)"
      ],
      "metadata": {
        "colab": {
          "base_uri": "https://localhost:8080/"
        },
        "id": "vWzrXn84oerC",
        "outputId": "7a9049d3-aedb-45fa-edac-9e3beffa93ca"
      },
      "id": "vWzrXn84oerC",
      "execution_count": 4,
      "outputs": [
        {
          "output_type": "stream",
          "name": "stdout",
          "text": [
            "Enter length of list:10\n",
            "Enter starting vaule of list:5\n",
            "Enter ending value of list:10\n",
            "[8, 10, 10, 10, 8, 7, 8, 10, 10, 9]\n",
            "90\n"
          ]
        }
      ]
    },
    {
      "cell_type": "markdown",
      "id": "171a980d",
      "metadata": {
        "id": "171a980d"
      },
      "source": [
        "### 2. Write a Python Program to find largest element in an array?\n"
      ]
    },
    {
      "cell_type": "code",
      "source": [
        "import random\n",
        "list1=[]\n",
        "sum=0\n",
        "len=int(input (\"Enter length of list:\"))\n",
        "start =int(input (\"Enter starting vaule of list:\")) \n",
        "end = int(input (\"Enter ending value of list:\"))\n",
        "\n",
        "for i in range(len):\n",
        "  list1.append(random.randint(start, end))\n",
        "\n",
        "print(list1)\n",
        "print(\"Largest num in the array is {0}\".format(max(list1)))"
      ],
      "metadata": {
        "colab": {
          "base_uri": "https://localhost:8080/"
        },
        "id": "j-gCX9njrVGC",
        "outputId": "9d023fff-1363-46f1-ef2c-6a84f63f1cd6"
      },
      "id": "j-gCX9njrVGC",
      "execution_count": 6,
      "outputs": [
        {
          "output_type": "stream",
          "name": "stdout",
          "text": [
            "Enter length of list:10\n",
            "Enter starting vaule of list:2\n",
            "Enter ending value of list:66\n",
            "[21, 45, 12, 56, 2, 46, 59, 16, 6, 62]\n",
            "Largest num in the array is 62\n"
          ]
        }
      ]
    },
    {
      "cell_type": "markdown",
      "id": "21613246",
      "metadata": {
        "id": "21613246"
      },
      "source": [
        "### 3. Write a Python Program for array rotation?"
      ]
    },
    {
      "cell_type": "code",
      "source": [
        "import random\n",
        "\n",
        "def rotateArray(a,n,d):\n",
        "    a[:]=a[d:n]+a[0:d]\n",
        "    return a\n",
        "    \n",
        "list1=[]\n",
        "len1=int(input (\"Enter length of list:\"))\n",
        "start =int(input (\"Enter starting vaule of list:\")) \n",
        "end = int(input (\"Enter ending value of list:\"))\n",
        "for i in range(len1):\n",
        "  list1.append(random.randint(start, end))\n",
        "\n",
        "print(list1)\n",
        "rotating_value = int(input (\"Enter the value by which you want to rotate:\"))\n",
        "#print(\"Rotated list is\")\n",
        "print(rotateArray(list1,len1,rotating_value))\n"
      ],
      "metadata": {
        "colab": {
          "base_uri": "https://localhost:8080/"
        },
        "id": "rOqMMyQPxCM_",
        "outputId": "ee57a306-cf93-48bb-cedf-345bc19a0b6b"
      },
      "id": "rOqMMyQPxCM_",
      "execution_count": 15,
      "outputs": [
        {
          "output_type": "stream",
          "name": "stdout",
          "text": [
            "Enter length of list:10\n",
            "Enter starting vaule of list:2\n",
            "Enter ending value of list:20\n",
            "[5, 9, 13, 8, 16, 19, 6, 14, 10, 19]\n",
            "Enter the value by which you want to rotate:3\n",
            "[8, 16, 19, 6, 14, 10, 19, 5, 9, 13]\n"
          ]
        }
      ]
    },
    {
      "cell_type": "markdown",
      "id": "3e52d939",
      "metadata": {
        "id": "3e52d939"
      },
      "source": [
        "### 4. Write a Python Program to Split the array and add the first part to the end\n",
        "\n",
        "---\n"
      ]
    },
    {
      "cell_type": "code",
      "source": [
        "import random\n",
        "\n",
        "def splitArray(a,n,d):\n",
        "    b=a[0:d]\n",
        "    c=a[d:n]\n",
        "    d=[]\n",
        "    for i in c:\n",
        "        d.append(i)\n",
        "    for j in b:\n",
        "        d.append(j)\n",
        "    #print(d)\n",
        "    return d\n",
        "    \n",
        "list1=[]\n",
        "len1=int(input (\"Enter length of list:\"))\n",
        "start =int(input (\"Enter starting vaule of list:\")) \n",
        "end = int(input (\"Enter ending value of list:\"))\n",
        "for i in range(len1):\n",
        "  list1.append(random.randint(start, end))\n",
        "\n",
        "print(\"The list is \",list1)\n",
        "position = int(input (\"Enter the position from where you want to split:\"))\n",
        "print(\"New list is\")\n",
        "print(splitArray(list1,len1,position)) "
      ],
      "metadata": {
        "colab": {
          "base_uri": "https://localhost:8080/"
        },
        "id": "foyQB_6WrWdQ",
        "outputId": "0a43e093-d4eb-4b6c-bbdc-da485a9597b8"
      },
      "id": "foyQB_6WrWdQ",
      "execution_count": 20,
      "outputs": [
        {
          "output_type": "stream",
          "name": "stdout",
          "text": [
            "Enter length of list:10\n",
            "Enter starting vaule of list:11\n",
            "Enter ending value of list:49\n",
            "The list is  [44, 21, 26, 13, 38, 47, 41, 16, 23, 40]\n",
            "Enter the position from where you want to split:4\n",
            "New list is\n",
            "[38, 47, 41, 16, 23, 40, 44, 21, 26, 13]\n"
          ]
        }
      ]
    },
    {
      "cell_type": "markdown",
      "id": "aa375779",
      "metadata": {
        "id": "aa375779"
      },
      "source": [
        "### 5. Write a Python Program to check if given array is Monotonic?"
      ]
    },
    {
      "cell_type": "code",
      "source": [
        "def isMonotonic(A):\n",
        "\tx, y = [], []\n",
        "\tx.extend(A)\n",
        "\ty.extend(A)\n",
        "\tx.sort()\n",
        "\ty.sort(reverse=True)\n",
        "\tif(x == A or y == A):\n",
        "\t\treturn True\n",
        "\treturn False\n"
      ],
      "metadata": {
        "id": "mB6XCwT7EDRY"
      },
      "id": "mB6XCwT7EDRY",
      "execution_count": 25,
      "outputs": []
    },
    {
      "cell_type": "code",
      "source": [
        "A = [6, 5, 4, 4]\n",
        "print(isMonotonic(A))"
      ],
      "metadata": {
        "colab": {
          "base_uri": "https://localhost:8080/"
        },
        "id": "9M2FsyHFEHND",
        "outputId": "ede5d5cf-2082-487d-d1dc-6798f9471cc2"
      },
      "id": "9M2FsyHFEHND",
      "execution_count": 26,
      "outputs": [
        {
          "output_type": "stream",
          "name": "stdout",
          "text": [
            "True\n"
          ]
        }
      ]
    },
    {
      "cell_type": "code",
      "source": [
        "B = [4,8,9,11]\n",
        "print(isMonotonic(B))"
      ],
      "metadata": {
        "colab": {
          "base_uri": "https://localhost:8080/"
        },
        "id": "NsY--jpxEUAR",
        "outputId": "755fd409-58c8-4f0b-d93b-1b576811010a"
      },
      "id": "NsY--jpxEUAR",
      "execution_count": 27,
      "outputs": [
        {
          "output_type": "stream",
          "name": "stdout",
          "text": [
            "True\n"
          ]
        }
      ]
    },
    {
      "cell_type": "code",
      "source": [
        "C = [11,4,15,2]\n",
        "print(isMonotonic(C))"
      ],
      "metadata": {
        "colab": {
          "base_uri": "https://localhost:8080/"
        },
        "id": "z3E4WxpVEgDQ",
        "outputId": "6372670f-4604-42a1-eb1d-b9e3ec8d44a0"
      },
      "id": "z3E4WxpVEgDQ",
      "execution_count": 28,
      "outputs": [
        {
          "output_type": "stream",
          "name": "stdout",
          "text": [
            "False\n"
          ]
        }
      ]
    },
    {
      "cell_type": "code",
      "source": [
        "D = [11,11,11,11]\n",
        "print(isMonotonic(D))"
      ],
      "metadata": {
        "colab": {
          "base_uri": "https://localhost:8080/"
        },
        "id": "xRzWkwnuEoqD",
        "outputId": "840468dd-2503-48c5-b27f-2941b2befd86"
      },
      "id": "xRzWkwnuEoqD",
      "execution_count": 29,
      "outputs": [
        {
          "output_type": "stream",
          "name": "stdout",
          "text": [
            "True\n"
          ]
        }
      ]
    },
    {
      "cell_type": "code",
      "source": [],
      "metadata": {
        "id": "_kLvfRc0EvmB"
      },
      "id": "_kLvfRc0EvmB",
      "execution_count": null,
      "outputs": []
    }
  ],
  "metadata": {
    "kernelspec": {
      "display_name": "Python 3 (ipykernel)",
      "language": "python",
      "name": "python3"
    },
    "language_info": {
      "codemirror_mode": {
        "name": "ipython",
        "version": 3
      },
      "file_extension": ".py",
      "mimetype": "text/x-python",
      "name": "python",
      "nbconvert_exporter": "python",
      "pygments_lexer": "ipython3",
      "version": "3.9.12"
    },
    "colab": {
      "provenance": []
    }
  },
  "nbformat": 4,
  "nbformat_minor": 5
}