{
  "cells": [
    {
      "cell_type": "markdown",
      "id": "4ac9602a",
      "metadata": {
        "id": "4ac9602a"
      },
      "source": [
        "## Python Basic Programming Assignment - 5\n",
        "--------------\n"
      ]
    },
    {
      "cell_type": "markdown",
      "id": "fdaeee06",
      "metadata": {
        "id": "fdaeee06"
      },
      "source": [
        "### 1. Write a Python Program to Find LCM?"
      ]
    },
    {
      "cell_type": "code",
      "source": [
        "def find_hcf(num1,num2):\n",
        "  hcf = 1\n",
        "  for i in range(1, min(num1, num2)):\n",
        "     if num1 % i == 0 and num2 % i == 0:\n",
        "        hcf = i\n",
        "  return hcf"
      ],
      "metadata": {
        "id": "otyoueSNKA1f"
      },
      "id": "otyoueSNKA1f",
      "execution_count": null,
      "outputs": []
    },
    {
      "cell_type": "code",
      "source": [
        "def find_lcm(num1,num2):\n",
        "  hcf=find_hcf(num1,num2)\n",
        "  lcm=num1*num2//hcf\n",
        "  return lcm"
      ],
      "metadata": {
        "id": "1No5bO_MKEBr"
      },
      "id": "1No5bO_MKEBr",
      "execution_count": 15,
      "outputs": []
    },
    {
      "cell_type": "code",
      "source": [
        "num1=int(input (\"Enter the first number:\"))\n",
        "num2 = int(input (\"Enter the first number:\"))\n",
        "print(\"HCF of\", num1, \"and\", num2, \"is\", find_hcf(num1,num2))\n",
        "print(\"LCM of\", num1, \"and\", num2, \"is\", find_lcm(num1,num2))"
      ],
      "metadata": {
        "colab": {
          "base_uri": "https://localhost:8080/"
        },
        "id": "6KbK7s7DKbDw",
        "outputId": "43811b2a-ed71-4405-aee2-3d671f2df432"
      },
      "id": "6KbK7s7DKbDw",
      "execution_count": 18,
      "outputs": [
        {
          "output_type": "stream",
          "name": "stdout",
          "text": [
            "Enter the first number:24\n",
            "Enter the first number:54\n",
            "HCF of 24 and 54 is 6\n",
            "LCM of 24 and 54 is 216\n"
          ]
        }
      ]
    },
    {
      "cell_type": "markdown",
      "id": "2f459cdf",
      "metadata": {
        "id": "2f459cdf"
      },
      "source": [
        "5454### 2. Write a Python Program to Find HCF?"
      ]
    },
    {
      "cell_type": "code",
      "source": [
        "def find_hcf(num1,num2):\n",
        "  hcf = 1\n",
        "  for i in range(1, min(num1, num2)):\n",
        "     if num1 % i == 0 and num2 % i == 0:\n",
        "        hcf = i\n",
        "  return hcf\n"
      ],
      "metadata": {
        "id": "nRL3rRBCIUX7"
      },
      "id": "nRL3rRBCIUX7",
      "execution_count": 7,
      "outputs": []
    },
    {
      "cell_type": "code",
      "source": [
        "num1=int(input (\"Enter the first number:\"))\n",
        "num2 = int(input (\"Enter the first number:\"))\n",
        "\n",
        "print(\"Hcf of\", num1, \"and\", num2, \"is\", find_hcf(num1,num2))"
      ],
      "metadata": {
        "colab": {
          "base_uri": "https://localhost:8080/"
        },
        "id": "fJideoXtJydp",
        "outputId": "efc42513-eafe-4307-848d-66ece8158555"
      },
      "id": "fJideoXtJydp",
      "execution_count": 11,
      "outputs": [
        {
          "output_type": "stream",
          "name": "stdout",
          "text": [
            "Enter the first number:60\n",
            "Enter the first number:90\n",
            "Hcf of 60 and 90 is 30\n"
          ]
        }
      ]
    },
    {
      "cell_type": "markdown",
      "id": "d2c29370",
      "metadata": {
        "id": "d2c29370"
      },
      "source": [
        "### 3. Write a Python Program to Convert Decimal to Binary, Octal and Hexadecimal?"
      ]
    },
    {
      "cell_type": "code",
      "source": [
        "dec =int(input (\"Enter the decimal number:\"))\n",
        "\n",
        "print(\"The value of\", dec, \"is:\")\n",
        "print(bin(dec), \"in binary.\")\n",
        "print(oct(dec), \"in octal.\")\n",
        "print(hex(dec), \"in hexadecimal.\")"
      ],
      "metadata": {
        "colab": {
          "base_uri": "https://localhost:8080/"
        },
        "id": "qX7_ue2gK7Tr",
        "outputId": "9b07bc84-967d-4b8a-ae16-09e216b0d834"
      },
      "id": "qX7_ue2gK7Tr",
      "execution_count": 21,
      "outputs": [
        {
          "output_type": "stream",
          "name": "stdout",
          "text": [
            "Enter the decimal number:344\n",
            "The value of 344 is:\n",
            "0b101011000 in binary.\n",
            "0o530 in octal.\n",
            "0x158 in hexadecimal.\n"
          ]
        }
      ]
    },
    {
      "cell_type": "markdown",
      "id": "2a16c5fd",
      "metadata": {
        "id": "2a16c5fd"
      },
      "source": [
        "### 4. Write a Python Program To Find ASCII value of a character?"
      ]
    },
    {
      "cell_type": "code",
      "source": [
        "input_char = input(\"Please enter a character: \")    \n",
        "    \n",
        "print (\"The ASCII value of '\" + input_char + \"' is \", ord(input_char))  "
      ],
      "metadata": {
        "colab": {
          "base_uri": "https://localhost:8080/"
        },
        "id": "pgTU2GBBMYjl",
        "outputId": "057a7696-02ca-458c-c408-5a23541102e5"
      },
      "id": "pgTU2GBBMYjl",
      "execution_count": 22,
      "outputs": [
        {
          "output_type": "stream",
          "name": "stdout",
          "text": [
            "Please enter a character: L\n",
            "The ASCII value of 'L' is  76\n"
          ]
        }
      ]
    },
    {
      "cell_type": "code",
      "source": [
        "input_char = input(\"Please enter a character: \")    \n",
        "    \n",
        "print (\"The ASCII value of '\" + input_char + \"' is \", ord(input_char)) "
      ],
      "metadata": {
        "colab": {
          "base_uri": "https://localhost:8080/"
        },
        "id": "RO4BuWLLM6Iu",
        "outputId": "6dc4b185-c212-4113-9631-c81012c4173c"
      },
      "id": "RO4BuWLLM6Iu",
      "execution_count": 23,
      "outputs": [
        {
          "output_type": "stream",
          "name": "stdout",
          "text": [
            "Please enter a character: l\n",
            "The ASCII value of 'l' is  108\n"
          ]
        }
      ]
    },
    {
      "cell_type": "markdown",
      "id": "226778a0",
      "metadata": {
        "id": "226778a0"
      },
      "source": [
        "### 5. Write a Python Program to Make a Simple Calculator with 4 basic mathematical operations?"
      ]
    },
    {
      "cell_type": "code",
      "source": [
        "def add(x, y):\n",
        "    return x + y\n",
        "def subtract(x, y):\n",
        "    return x - y\n",
        "def multiply(x, y):\n",
        "    return x * y\n",
        "def divide(x, y):\n",
        "    return x / y\n",
        "\n",
        "print(\"Select operation.\")\n",
        "print(\"1.Add\")\n",
        "print(\"2.Subtract\")\n",
        "print(\"3.Multiply\")\n",
        "print(\"4.Divide\")\n",
        "\n",
        "while True:\n",
        "    # take input from the user\n",
        "    choice = input(\"Enter choice(1/2/3/4): \")\n",
        "\n",
        "    # check if choice is one of the four options\n",
        "    if choice in ('1', '2', '3', '4'):\n",
        "        try:\n",
        "            num1 = float(input(\"Enter first number: \"))\n",
        "            num2 = float(input(\"Enter second number: \"))\n",
        "        except ValueError:\n",
        "            print(\"Invalid input. Please enter a number.\")\n",
        "            continue\n",
        "\n",
        "        if choice == '1':\n",
        "            print(num1, \"+\", num2, \"=\", add(num1, num2))\n",
        "\n",
        "        elif choice == '2':\n",
        "            print(num1, \"-\", num2, \"=\", subtract(num1, num2))\n",
        "\n",
        "        elif choice == '3':\n",
        "            print(num1, \"*\", num2, \"=\", multiply(num1, num2))\n",
        "\n",
        "        elif choice == '4':\n",
        "            print(num1, \"/\", num2, \"=\", divide(num1, num2))\n",
        "\n",
        "        next_calculation = input(\"Let's do next calculation? (yes/no): \")\n",
        "        if next_calculation == \"no\":\n",
        "          break\n",
        "    else:\n",
        "        print(\"Invalid Input\")"
      ],
      "metadata": {
        "colab": {
          "base_uri": "https://localhost:8080/"
        },
        "id": "BkY5904IMZH3",
        "outputId": "254969f8-5e13-4ab6-9ce8-935c2c33acd4"
      },
      "id": "BkY5904IMZH3",
      "execution_count": 24,
      "outputs": [
        {
          "name": "stdout",
          "output_type": "stream",
          "text": [
            "Select operation.\n",
            "1.Add\n",
            "2.Subtract\n",
            "3.Multiply\n",
            "4.Divide\n",
            "Enter choice(1/2/3/4): 1\n",
            "Enter first number: 5\n",
            "Enter second number: 6\n",
            "5.0 + 6.0 = 11.0\n",
            "Let's do next calculation? (yes/no): yes\n",
            "Enter choice(1/2/3/4): 3\n",
            "Enter first number: 4\n",
            "Enter second number: 5\n",
            "4.0 * 5.0 = 20.0\n",
            "Let's do next calculation? (yes/no): yes\n",
            "Enter choice(1/2/3/4): 4\n",
            "Enter first number: 65\n",
            "Enter second number: 27\n",
            "65.0 / 27.0 = 2.4074074074074074\n",
            "Let's do next calculation? (yes/no): yes\n",
            "Enter choice(1/2/3/4): 2\n",
            "Enter first number: 54\n",
            "Enter second number: 65\n",
            "54.0 - 65.0 = -11.0\n",
            "Let's do next calculation? (yes/no): Yes\n",
            "Enter choice(1/2/3/4): 6\n",
            "Invalid Input\n",
            "Enter choice(1/2/3/4): 1\n",
            "Enter first number: s\n",
            "Invalid input. Please enter a number.\n",
            "Enter choice(1/2/3/4): 5\n",
            "Invalid Input\n",
            "Enter choice(1/2/3/4): 1\n",
            "Enter first number: 5\n",
            "Enter second number: 5\n",
            "5.0 + 5.0 = 10.0\n",
            "Let's do next calculation? (yes/no): no\n"
          ]
        }
      ]
    },
    {
      "cell_type": "code",
      "source": [],
      "metadata": {
        "id": "M1Hj0LoENV2r"
      },
      "id": "M1Hj0LoENV2r",
      "execution_count": null,
      "outputs": []
    }
  ],
  "metadata": {
    "kernelspec": {
      "display_name": "Python 3 (ipykernel)",
      "language": "python",
      "name": "python3"
    },
    "language_info": {
      "codemirror_mode": {
        "name": "ipython",
        "version": 3
      },
      "file_extension": ".py",
      "mimetype": "text/x-python",
      "name": "python",
      "nbconvert_exporter": "python",
      "pygments_lexer": "ipython3",
      "version": "3.9.12"
    },
    "colab": {
      "provenance": []
    }
  },
  "nbformat": 4,
  "nbformat_minor": 5
}