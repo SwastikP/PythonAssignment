{
  "cells": [
    {
      "cell_type": "markdown",
      "id": "53c7e882",
      "metadata": {
        "id": "53c7e882"
      },
      "source": [
        "# Python Basic Programming Assignment 11\n",
        "--------------------"
      ]
    },
    {
      "cell_type": "markdown",
      "id": "051da140",
      "metadata": {
        "id": "051da140"
      },
      "source": [
        "### 1. Write a Python program to find words which are greater than given length k?"
      ]
    },
    {
      "cell_type": "code",
      "source": [
        "inp_str=input(\"Enter the string:\")\n",
        "print(\"The input string is:\",inp_str.strip())\n",
        "out_str=\"\"\n",
        "given_length=int(input(\"Enter the length:\"))\n",
        "list1=inp_str.split(\" \")\n",
        "for i in list1:\n",
        "  if len(i)>given_length:\n",
        "    out_str+=\" \"+i\n",
        "print(\"The output string is:\",out_str.strip())"
      ],
      "metadata": {
        "colab": {
          "base_uri": "https://localhost:8080/"
        },
        "id": "_mLrE9I1wlkx",
        "outputId": "e5d0208d-297c-475f-f4d5-6dc145104633"
      },
      "id": "_mLrE9I1wlkx",
      "execution_count": 4,
      "outputs": [
        {
          "output_type": "stream",
          "name": "stdout",
          "text": [
            "Enter the string:National animal of India is Tiger\n",
            "The input string is: National animal of India is Tiger\n",
            "Enter the length:2\n",
            "The output string is: National animal India Tiger\n"
          ]
        }
      ]
    },
    {
      "cell_type": "markdown",
      "id": "26719cbd",
      "metadata": {
        "id": "26719cbd"
      },
      "source": [
        "### 2. Write a Python program for removing i-th character from a string?"
      ]
    },
    {
      "cell_type": "code",
      "source": [
        "inp_str=input(\"Enter the string:\")\n",
        "given_pos=int(input(\"Enter the pos:\"))\n",
        "out_str=inp_str[:given_pos-1]+inp_str[given_pos+1:]\n",
        "print(\"The input string is:\",inp_str)\n",
        "print(\"The output string is:\",out_str)"
      ],
      "metadata": {
        "colab": {
          "base_uri": "https://localhost:8080/"
        },
        "id": "21OUOpr3wmWq",
        "outputId": "a5950c00-07c6-47fc-c2e9-b3afed2e1b69"
      },
      "id": "21OUOpr3wmWq",
      "execution_count": 9,
      "outputs": [
        {
          "output_type": "stream",
          "name": "stdout",
          "text": [
            "Enter the string:ineuron\n",
            "Enter the pos:4\n",
            "The input string is: ineuron\n",
            "The output string is: ineon\n"
          ]
        }
      ]
    },
    {
      "cell_type": "markdown",
      "id": "51ae6b0f",
      "metadata": {
        "id": "51ae6b0f"
      },
      "source": [
        "### 3. Write a Python program to split and join a string?"
      ]
    },
    {
      "cell_type": "code",
      "source": [
        "inp_str=input(\"Enter the string:\")\n",
        "print(inp_str.split(\" \"))\n",
        "print(\"-\".join(inp_str.split()))"
      ],
      "metadata": {
        "colab": {
          "base_uri": "https://localhost:8080/"
        },
        "id": "6Jh06mq7wm8v",
        "outputId": "a13df886-d39f-463c-a18d-e98294246713"
      },
      "id": "6Jh06mq7wm8v",
      "execution_count": 10,
      "outputs": [
        {
          "output_type": "stream",
          "name": "stdout",
          "text": [
            "Enter the string:I love python\n",
            "['I', 'love', 'python']\n",
            "I-love-python\n"
          ]
        }
      ]
    },
    {
      "cell_type": "markdown",
      "id": "59079fe1",
      "metadata": {
        "id": "59079fe1"
      },
      "source": [
        "### 4. Write a Python to check if a given string is binary string or not?"
      ]
    },
    {
      "cell_type": "code",
      "source": [
        "inp_str=input(\"Enter the string:\")\n",
        "if(inp_str.count('0')+inp_str.count('1')==len(inp_str)):\n",
        "    print(\"Yes the input string is binary\")\n",
        "else:\n",
        "    print(\"No the input string is not binary\")"
      ],
      "metadata": {
        "colab": {
          "base_uri": "https://localhost:8080/"
        },
        "id": "wpgOxYfPwnkD",
        "outputId": "f4fd3685-3f43-4237-ec90-ac577a4851d8"
      },
      "id": "wpgOxYfPwnkD",
      "execution_count": 34,
      "outputs": [
        {
          "output_type": "stream",
          "name": "stdout",
          "text": [
            "Enter the string:1111000001\n",
            "Yes the input string is binary\n"
          ]
        }
      ]
    },
    {
      "cell_type": "markdown",
      "id": "4d6cf11a",
      "metadata": {
        "id": "4d6cf11a"
      },
      "source": [
        "### 5. Write a Python program to find uncommon words from two Strings?"
      ]
    },
    {
      "cell_type": "code",
      "source": [
        "inp_str1=input(\"Enter the 1st string:\")\n",
        "inp_str2=input(\"Enter the 2nd string:\")\n",
        "out_str=''\n",
        "out_list=[]\n",
        "list1=inp_str1.split(\" \")\n",
        "list2=inp_str2.split(\" \")\n",
        "for i in list1:\n",
        "  if i not in list2:\n",
        "    out_list.append(i)\n",
        "for i in list2:\n",
        "  if i not in list1:\n",
        "    out_list.append(i)\n",
        "out_list=set(out_list)\n",
        "for i in out_list:\n",
        "  out_str+=\" \"+i\n",
        "print(\"Uncommon words are:\",out_str.strip())\n"
      ],
      "metadata": {
        "colab": {
          "base_uri": "https://localhost:8080/"
        },
        "id": "kvHvj0rrwoM3",
        "outputId": "b34ad20e-dd75-420e-8b2a-5fe1cb79f707"
      },
      "id": "kvHvj0rrwoM3",
      "execution_count": 21,
      "outputs": [
        {
          "output_type": "stream",
          "name": "stdout",
          "text": [
            "Enter the 1st string:I dont know You\n",
            "Enter the 2nd string:I know You very much\n",
            "Uncommon words are: dont much very\n"
          ]
        }
      ]
    },
    {
      "cell_type": "markdown",
      "id": "e2b24677",
      "metadata": {
        "id": "e2b24677"
      },
      "source": [
        "### 6. Write a Python to find all duplicate characters in string?"
      ]
    },
    {
      "cell_type": "code",
      "source": [
        "inp_str=input(\"Enter the input string:\")\n",
        "out_str=''\n",
        "for i in inp_str.lower():\n",
        "  c=inp_str.lower().count(i)\n",
        "  if c>1:\n",
        "    if i not in out_str.lower():\n",
        "      out_str+=i\n",
        "    else:\n",
        "      continue\n",
        "  else:\n",
        "    continue\n",
        "print(\"Duplicate characters are:\",out_str.lower())\n"
      ],
      "metadata": {
        "colab": {
          "base_uri": "https://localhost:8080/"
        },
        "id": "q-_27N3lwqwQ",
        "outputId": "ebf5caa1-75f8-4e8c-dbb9-3d11c317ef4e"
      },
      "id": "q-_27N3lwqwQ",
      "execution_count": 15,
      "outputs": [
        {
          "output_type": "stream",
          "name": "stdout",
          "text": [
            "Enter the input string:ABCabcaabbccdhhhjjiopww\n",
            "Duplicate characters are: abchjw\n"
          ]
        }
      ]
    },
    {
      "cell_type": "markdown",
      "id": "1a6af7e4",
      "metadata": {
        "id": "1a6af7e4"
      },
      "source": [
        "### 7. Write a Python Program to check if a string contains any special character?"
      ]
    },
    {
      "cell_type": "code",
      "source": [
        "def check_special(inp_str):\n",
        "  inp_str.split()\n",
        "  c=0\n",
        "  s='[@_!#$%^&*()<>?/\\|}{~:]' \n",
        "  for i in range(len(inp_str)):\n",
        "      if inp_str[i] in s:\n",
        "        c+=1 \n",
        "  print(\"Total {0} special characters are there\".format(c))\n",
        "  return c"
      ],
      "metadata": {
        "id": "9ePN2Lh18xrs"
      },
      "id": "9ePN2Lh18xrs",
      "execution_count": 30,
      "outputs": []
    },
    {
      "cell_type": "code",
      "source": [
        "inp_str=input(\"Enter the input string:\")\n",
        "if check_special(inp_str):\n",
        "  print(\"Contains special character\")\n",
        "else:\n",
        "  print(\"Does not Contain special character\")"
      ],
      "metadata": {
        "colab": {
          "base_uri": "https://localhost:8080/"
        },
        "id": "rmJZNZhxwqYN",
        "outputId": "77c41840-b02a-42ce-d658-78048968ba63"
      },
      "id": "rmJZNZhxwqYN",
      "execution_count": 31,
      "outputs": [
        {
          "output_type": "stream",
          "name": "stdout",
          "text": [
            "Enter the input string:I(hh^kfk@\n",
            "Total 3 special characters are there\n",
            "Contains special character\n"
          ]
        }
      ]
    },
    {
      "cell_type": "code",
      "source": [
        "inp_str=input(\"Enter the input string:\")\n",
        "if check_special(inp_str):\n",
        "  print(\"Contains special character\")\n",
        "else:\n",
        "  print(\"Does not Contain special character\")"
      ],
      "metadata": {
        "colab": {
          "base_uri": "https://localhost:8080/"
        },
        "id": "iSwY0t9F8UGP",
        "outputId": "0c94e911-b3e6-4d35-f6bc-5d368090e0ec"
      },
      "id": "iSwY0t9F8UGP",
      "execution_count": 32,
      "outputs": [
        {
          "output_type": "stream",
          "name": "stdout",
          "text": [
            "Enter the input string:bsbhsdbjvbdskj\n",
            "Total 0 special characters are there\n",
            "Does not Contain special character\n"
          ]
        }
      ]
    },
    {
      "cell_type": "code",
      "source": [],
      "metadata": {
        "id": "4f1UaKmV9nPv"
      },
      "id": "4f1UaKmV9nPv",
      "execution_count": null,
      "outputs": []
    }
  ],
  "metadata": {
    "kernelspec": {
      "display_name": "Python 3 (ipykernel)",
      "language": "python",
      "name": "python3"
    },
    "language_info": {
      "codemirror_mode": {
        "name": "ipython",
        "version": 3
      },
      "file_extension": ".py",
      "mimetype": "text/x-python",
      "name": "python",
      "nbconvert_exporter": "python",
      "pygments_lexer": "ipython3",
      "version": "3.9.12"
    },
    "colab": {
      "provenance": []
    }
  },
  "nbformat": 4,
  "nbformat_minor": 5
}