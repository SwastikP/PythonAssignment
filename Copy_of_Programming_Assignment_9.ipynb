{
  "cells": [
    {
      "cell_type": "markdown",
      "id": "47b9bb99",
      "metadata": {
        "id": "47b9bb99"
      },
      "source": [
        "## Programming Assignment_9\n",
        "----------------"
      ]
    },
    {
      "cell_type": "markdown",
      "id": "c725f7a9",
      "metadata": {
        "id": "c725f7a9"
      },
      "source": [
        "### 1. Write a Python program to check if the given number is a Disarium Number?"
      ]
    },
    {
      "cell_type": "code",
      "source": [
        "import math\n",
        "def check_disarium(num):\n",
        "  sum=0\n",
        "  for i in range(len(num)):\n",
        "    sum+=math.pow(int(num[i]),(i+1))\n",
        "  return int(sum)  \n"
      ],
      "metadata": {
        "id": "OK6IVPZM5ub9"
      },
      "id": "OK6IVPZM5ub9",
      "execution_count": 30,
      "outputs": []
    },
    {
      "cell_type": "code",
      "source": [
        "num=input(\"Enter the number:\")\n",
        "if int(num)==check_disarium(num):\n",
        "  print(\"{0} is a Disarium Number\".format(num))\n",
        "else:\n",
        "  print(\"{0} is not a Disarium Number\".format(num))"
      ],
      "metadata": {
        "colab": {
          "base_uri": "https://localhost:8080/"
        },
        "id": "VSggd0j26b4W",
        "outputId": "e0839af9-f787-46d6-9f0c-f516c32e9511"
      },
      "id": "VSggd0j26b4W",
      "execution_count": 44,
      "outputs": [
        {
          "output_type": "stream",
          "name": "stdout",
          "text": [
            "Enter the number:89\n",
            "89 is a Disarium Number\n"
          ]
        }
      ]
    },
    {
      "cell_type": "code",
      "source": [
        "num=input(\"Enter the number:\")\n",
        "if int(num)==check_disarium(num):\n",
        "  print(\"{0} is a Disarium Number\".format(num))\n",
        "else:\n",
        "  print(\"{0} is not a Disarium Number\".format(num))"
      ],
      "metadata": {
        "colab": {
          "base_uri": "https://localhost:8080/"
        },
        "id": "DsCyFZfWF3iG",
        "outputId": "5c60dcd6-6d6c-4dd2-e116-9e60178b13dd"
      },
      "id": "DsCyFZfWF3iG",
      "execution_count": 46,
      "outputs": [
        {
          "output_type": "stream",
          "name": "stdout",
          "text": [
            "Enter the number:48\n",
            "48 is not a Disarium Number\n"
          ]
        }
      ]
    },
    {
      "cell_type": "markdown",
      "id": "f0064401",
      "metadata": {
        "id": "f0064401"
      },
      "source": [
        "### 2. Write a Python program to print all disarium numbers between 1 to 100?"
      ]
    },
    {
      "cell_type": "code",
      "source": [
        "import math\n",
        "def check_disarium(num):\n",
        "  sum=0\n",
        "  for i in range(len(num)):\n",
        "    sum+=math.pow(int(num[i]),(i+1))\n",
        "  return int(sum)  "
      ],
      "metadata": {
        "id": "SYoKuo8TGKg7"
      },
      "id": "SYoKuo8TGKg7",
      "execution_count": 39,
      "outputs": []
    },
    {
      "cell_type": "code",
      "source": [
        "output_list=[]\n",
        "for i in range(1,100):\n",
        "  if check_disarium(str(i))==int(i):\n",
        "    output_list.append(i)\n",
        "print(\"Disarium Numbers \",output_list)\n"
      ],
      "metadata": {
        "colab": {
          "base_uri": "https://localhost:8080/"
        },
        "id": "bsw7TFTMSlwF",
        "outputId": "aff0c183-53ea-4f9c-a0d3-18e433d7637c"
      },
      "id": "bsw7TFTMSlwF",
      "execution_count": 43,
      "outputs": [
        {
          "output_type": "stream",
          "name": "stdout",
          "text": [
            "Disarium Numbers  [1, 2, 3, 4, 5, 6, 7, 8, 9, 89]\n"
          ]
        }
      ]
    },
    {
      "cell_type": "markdown",
      "id": "31df1e4a",
      "metadata": {
        "id": "31df1e4a"
      },
      "source": [
        "### 3. Write a Python program to check if the given number is Happy Number?"
      ]
    },
    {
      "cell_type": "code",
      "source": [
        "def isHappyNumber(num):    \n",
        "    rem = sum = 0;       \n",
        "    while(num > 0):    \n",
        "        rem = num%10;    \n",
        "        sum = sum + (rem*rem);    \n",
        "        num = num//10;   \n",
        "    #print(sum) \n",
        "    return sum;   "
      ],
      "metadata": {
        "id": "qtdEnySSGK_-"
      },
      "id": "qtdEnySSGK_-",
      "execution_count": 58,
      "outputs": []
    },
    {
      "cell_type": "code",
      "source": [
        "num=int(input(\"Enter the number:\"))\n",
        "result=isHappyNumber(num) \n",
        "while(result!=1 and result!=4):\n",
        "   result=isHappyNumber(result)\n",
        "if int(result)==1:\n",
        "  print(\"{0} is a Happy Number\".format(num))\n",
        "else:\n",
        "  print(\"{0} is not a Happy Number\".format(num))"
      ],
      "metadata": {
        "colab": {
          "base_uri": "https://localhost:8080/"
        },
        "id": "TjPuADdHVbwe",
        "outputId": "720949e0-d1f7-4e2e-e4ce-fef6b0c24ebf"
      },
      "id": "TjPuADdHVbwe",
      "execution_count": 59,
      "outputs": [
        {
          "output_type": "stream",
          "name": "stdout",
          "text": [
            "Enter the number:82\n",
            "82 is a Happy Number\n"
          ]
        }
      ]
    },
    {
      "cell_type": "code",
      "source": [
        "num=int(input(\"Enter the number:\"))\n",
        "result=isHappyNumber(num) \n",
        "while(result!=1 and result!=4):\n",
        "   result=isHappyNumber(result)\n",
        "if int(result)==1:\n",
        "  print(\"{0} is a Happy Number\".format(num))\n",
        "else:\n",
        "  print(\"{0} is not a Happy Number\".format(num))"
      ],
      "metadata": {
        "colab": {
          "base_uri": "https://localhost:8080/"
        },
        "id": "NQ_7YZQkZ4ax",
        "outputId": "2caff981-d358-4d08-c73d-a768afccd7ea"
      },
      "id": "NQ_7YZQkZ4ax",
      "execution_count": 62,
      "outputs": [
        {
          "output_type": "stream",
          "name": "stdout",
          "text": [
            "Enter the number:45\n",
            "45 is not a Happy Number\n"
          ]
        }
      ]
    },
    {
      "cell_type": "markdown",
      "id": "51b265e3",
      "metadata": {
        "id": "51b265e3"
      },
      "source": [
        "### 4. Write a Python program to print all happy numbers between 1 and 100?"
      ]
    },
    {
      "cell_type": "code",
      "source": [
        "def isHappyNumber(num):    \n",
        "    rem = sum = 0;       \n",
        "    while(num > 0):    \n",
        "        rem = num%10;    \n",
        "        sum = sum + (rem*rem);    \n",
        "        num = num//10;   \n",
        "    #print(sum) \n",
        "    return sum;  "
      ],
      "metadata": {
        "id": "dScUVk7NGLq6"
      },
      "id": "dScUVk7NGLq6",
      "execution_count": 63,
      "outputs": []
    },
    {
      "cell_type": "code",
      "source": [
        "output_list=[]\n",
        "\n",
        "for i in range(1,101):\n",
        "  result=i\n",
        "  while(result!=1 and result!=4):\n",
        "    result=isHappyNumber(result)\n",
        "    if result==1:\n",
        "      output_list.append(i)\n",
        "\n",
        "print(\"Happy Numbers \",output_list)"
      ],
      "metadata": {
        "colab": {
          "base_uri": "https://localhost:8080/"
        },
        "id": "494VJnM6aE-D",
        "outputId": "96b941c6-3680-4749-d55a-fae04adc4ca4"
      },
      "id": "494VJnM6aE-D",
      "execution_count": 69,
      "outputs": [
        {
          "output_type": "stream",
          "name": "stdout",
          "text": [
            "Happy Numbers  [7, 10, 13, 19, 23, 28, 31, 32, 44, 49, 68, 70, 79, 82, 86, 91, 94, 97, 100]\n"
          ]
        }
      ]
    },
    {
      "cell_type": "markdown",
      "id": "6a190ee0",
      "metadata": {
        "id": "6a190ee0"
      },
      "source": [
        "### 5. Write a Python program to determine whether the given number is a Harshad Number?\n",
        "\n"
      ]
    },
    {
      "cell_type": "code",
      "source": [
        "def isHarshad(num):\n",
        "  rem = sum = 0;    \n",
        "  n=num\n",
        "  while(num > 0):    \n",
        "    rem = num%10;    \n",
        "    sum = sum + rem;    \n",
        "    num = num//10;    \n",
        "   \n",
        "  if(n%sum == 0):    \n",
        "    print(str(n) + \" is a harshad number\");    \n",
        "  else:    \n",
        "    print(str(n) + \" is not a harshad number\");    "
      ],
      "metadata": {
        "id": "ZVyAwGpFGMjW"
      },
      "id": "ZVyAwGpFGMjW",
      "execution_count": 71,
      "outputs": []
    },
    {
      "cell_type": "code",
      "source": [
        "num=int(input(\"Enter the number:\"))   \n",
        "isHarshad(num)\n"
      ],
      "metadata": {
        "colab": {
          "base_uri": "https://localhost:8080/"
        },
        "id": "CRO_1Myscq5j",
        "outputId": "f557f4a6-268a-42be-adba-9eb2590ce0c9"
      },
      "id": "CRO_1Myscq5j",
      "execution_count": 74,
      "outputs": [
        {
          "output_type": "stream",
          "name": "stdout",
          "text": [
            "Enter the number:156\n",
            "156 is a harshad number\n"
          ]
        }
      ]
    },
    {
      "cell_type": "code",
      "source": [
        "num=int(input(\"Enter the number:\"))   \n",
        "isHarshad(num)\n"
      ],
      "metadata": {
        "colab": {
          "base_uri": "https://localhost:8080/"
        },
        "id": "cHGNDcqTd9bk",
        "outputId": "b360d7f1-83f5-4272-8dd7-c4e4b3be6398"
      },
      "id": "cHGNDcqTd9bk",
      "execution_count": 75,
      "outputs": [
        {
          "output_type": "stream",
          "name": "stdout",
          "text": [
            "Enter the number:54\n",
            "54 is a harshad number\n"
          ]
        }
      ]
    },
    {
      "cell_type": "code",
      "source": [
        "num=int(input(\"Enter the number:\"))   \n",
        "isHarshad(num)\n"
      ],
      "metadata": {
        "colab": {
          "base_uri": "https://localhost:8080/"
        },
        "id": "50SIIBw7eGUi",
        "outputId": "c370c5bf-941a-4bc5-db56-1805ca021787"
      },
      "id": "50SIIBw7eGUi",
      "execution_count": 76,
      "outputs": [
        {
          "output_type": "stream",
          "name": "stdout",
          "text": [
            "Enter the number:55\n",
            "55 is not a harshad number\n"
          ]
        }
      ]
    },
    {
      "cell_type": "markdown",
      "id": "7a7ea92e",
      "metadata": {
        "id": "7a7ea92e"
      },
      "source": [
        "### 6. Write a Python program to print all pronic numbers between 1 and 100?"
      ]
    },
    {
      "cell_type": "code",
      "source": [
        " def isPronicNumber(num):    \n",
        "    flag = False;    \n",
        "        \n",
        "    for j in range(1, num+1):        \n",
        "        if((j*(j+1)) == num):    \n",
        "            flag = True;    \n",
        "            break;    \n",
        "    return flag;    \n",
        "   \n",
        "   "
      ],
      "metadata": {
        "colab": {
          "base_uri": "https://localhost:8080/"
        },
        "id": "ybZpZm4vGNXw",
        "outputId": "0414c917-8272-41ff-a0ba-3be97b352b34"
      },
      "id": "ybZpZm4vGNXw",
      "execution_count": 77,
      "outputs": [
        {
          "output_type": "stream",
          "name": "stdout",
          "text": [
            "Pronic numbers between 1 and 100: \n",
            "2\n",
            " \n",
            "6\n",
            " \n",
            "12\n",
            " \n",
            "20\n",
            " \n",
            "30\n",
            " \n",
            "42\n",
            " \n",
            "56\n",
            " \n",
            "72\n",
            " \n",
            "90\n",
            " \n"
          ]
        }
      ]
    },
    {
      "cell_type": "code",
      "source": [
        " output_list=[]\n",
        " print(\"Pronic numbers between 1 and 100: \"); \n",
        "\n",
        " for i in range(1, 101):    \n",
        "    if(isPronicNumber(i)):    \n",
        "        output_list.append(i)\n",
        " print(output_list) "
      ],
      "metadata": {
        "colab": {
          "base_uri": "https://localhost:8080/"
        },
        "id": "0oNdMzSihML0",
        "outputId": "e812a1d2-2c24-4019-c4a0-bbb4a0b0a49d"
      },
      "id": "0oNdMzSihML0",
      "execution_count": 79,
      "outputs": [
        {
          "output_type": "stream",
          "name": "stdout",
          "text": [
            "Pronic numbers between 1 and 100: \n",
            "[2, 6, 12, 20, 30, 42, 56, 72, 90]\n"
          ]
        }
      ]
    },
    {
      "cell_type": "code",
      "source": [],
      "metadata": {
        "id": "qNJmxvSPheV8"
      },
      "id": "qNJmxvSPheV8",
      "execution_count": null,
      "outputs": []
    }
  ],
  "metadata": {
    "kernelspec": {
      "display_name": "Python 3 (ipykernel)",
      "language": "python",
      "name": "python3"
    },
    "language_info": {
      "codemirror_mode": {
        "name": "ipython",
        "version": 3
      },
      "file_extension": ".py",
      "mimetype": "text/x-python",
      "name": "python",
      "nbconvert_exporter": "python",
      "pygments_lexer": "ipython3",
      "version": "3.9.12"
    },
    "colab": {
      "provenance": []
    }
  },
  "nbformat": 4,
  "nbformat_minor": 5
}