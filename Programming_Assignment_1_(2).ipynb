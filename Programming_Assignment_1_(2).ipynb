{
  "cells": [
    {
      "cell_type": "markdown",
      "id": "637b47a5",
      "metadata": {
        "id": "637b47a5"
      },
      "source": [
        "## Programming Assignment_1\n",
        "-------------"
      ]
    },
    {
      "cell_type": "markdown",
      "id": "0c647dbe",
      "metadata": {
        "id": "0c647dbe"
      },
      "source": [
        "### 1. Write a Python program to print \"Hello Python\"?"
      ]
    },
    {
      "cell_type": "code",
      "source": [
        "print(\"Hello World\")"
      ],
      "metadata": {
        "id": "lS4RDipJ2jbu",
        "outputId": "7d3d49d2-8b9e-4233-ac06-484211e95829",
        "colab": {
          "base_uri": "https://localhost:8080/"
        }
      },
      "id": "lS4RDipJ2jbu",
      "execution_count": null,
      "outputs": [
        {
          "output_type": "stream",
          "name": "stdout",
          "text": [
            "Hello World\n"
          ]
        }
      ]
    },
    {
      "cell_type": "markdown",
      "id": "fc18a6cd",
      "metadata": {
        "id": "fc18a6cd"
      },
      "source": [
        "### 2. Write a Python program to do arithmetical operations addition and division.?\n"
      ]
    },
    {
      "cell_type": "code",
      "source": [
        "a=3\n",
        "b=2\n",
        "print(a+b)\n",
        "print(a/b)"
      ],
      "metadata": {
        "id": "KZCfE7F02yoC",
        "outputId": "d707543b-513c-4f10-d2e3-b5875a4daf69",
        "colab": {
          "base_uri": "https://localhost:8080/"
        }
      },
      "id": "KZCfE7F02yoC",
      "execution_count": null,
      "outputs": [
        {
          "output_type": "stream",
          "name": "stdout",
          "text": [
            "5\n",
            "1.5\n"
          ]
        }
      ]
    },
    {
      "cell_type": "markdown",
      "id": "af6e2429",
      "metadata": {
        "id": "af6e2429"
      },
      "source": [
        "### 3. Write a Python program to find the area of a triangle?\n"
      ]
    },
    {
      "cell_type": "code",
      "source": [
        "base=4\n",
        "height=6\n",
        "area=0.5*4*6\n",
        "print(area)"
      ],
      "metadata": {
        "id": "ni8ib4Lx2_Dw",
        "outputId": "b3bc56c1-2dbc-4915-bccc-88d197471684",
        "colab": {
          "base_uri": "https://localhost:8080/"
        }
      },
      "id": "ni8ib4Lx2_Dw",
      "execution_count": null,
      "outputs": [
        {
          "output_type": "stream",
          "name": "stdout",
          "text": [
            "12.0\n"
          ]
        }
      ]
    },
    {
      "cell_type": "markdown",
      "id": "b8140061",
      "metadata": {
        "id": "b8140061"
      },
      "source": [
        "### 4. Write a Python program to swap two variables?\n"
      ]
    },
    {
      "cell_type": "code",
      "source": [
        "a=8\n",
        "b=9\n",
        "temp=a\n",
        "a=b\n",
        "b=temp\n",
        "print(a,b)\n",
        "\n"
      ],
      "metadata": {
        "id": "5H1iDb6X3Yp1",
        "outputId": "8f5b6327-d2e9-457f-8538-48092289dd8a",
        "colab": {
          "base_uri": "https://localhost:8080/"
        }
      },
      "id": "5H1iDb6X3Yp1",
      "execution_count": null,
      "outputs": [
        {
          "output_type": "stream",
          "name": "stdout",
          "text": [
            "9 8\n"
          ]
        }
      ]
    },
    {
      "cell_type": "code",
      "source": [
        "x=11\n",
        "y=13\n",
        "x = x + y\n",
        "y = x - y\n",
        "x = x - y\n",
        "print(x,y)\n"
      ],
      "metadata": {
        "id": "QO9gR7qt3r68",
        "outputId": "199c7be2-c4bb-45cf-83fe-01a45012adb8",
        "colab": {
          "base_uri": "https://localhost:8080/"
        }
      },
      "id": "QO9gR7qt3r68",
      "execution_count": null,
      "outputs": [
        {
          "output_type": "stream",
          "name": "stdout",
          "text": [
            "13 11\n"
          ]
        }
      ]
    },
    {
      "cell_type": "markdown",
      "id": "3f8054c1",
      "metadata": {
        "id": "3f8054c1"
      },
      "source": [
        "### 5. Write a Python program to generate a random number?\n"
      ]
    },
    {
      "cell_type": "code",
      "source": [
        "import random\n",
        "randomNumber=random.randint(5,9)\n",
        "randomNumber"
      ],
      "metadata": {
        "id": "J2F2U7bt4NMU",
        "outputId": "61fcda9c-777f-44e0-b25c-9de7d702840c",
        "colab": {
          "base_uri": "https://localhost:8080/"
        }
      },
      "id": "J2F2U7bt4NMU",
      "execution_count": null,
      "outputs": [
        {
          "output_type": "execute_result",
          "data": {
            "text/plain": [
              "7"
            ]
          },
          "metadata": {},
          "execution_count": 10
        }
      ]
    },
    {
      "cell_type": "code",
      "source": [],
      "metadata": {
        "id": "EhZjIYXL4Sbq"
      },
      "id": "EhZjIYXL4Sbq",
      "execution_count": null,
      "outputs": []
    }
  ],
  "metadata": {
    "kernelspec": {
      "display_name": "Python 3 (ipykernel)",
      "language": "python",
      "name": "python3"
    },
    "language_info": {
      "codemirror_mode": {
        "name": "ipython",
        "version": 3
      },
      "file_extension": ".py",
      "mimetype": "text/x-python",
      "name": "python",
      "nbconvert_exporter": "python",
      "pygments_lexer": "ipython3",
      "version": "3.9.12"
    },
    "colab": {
      "provenance": []
    }
  },
  "nbformat": 4,
  "nbformat_minor": 5
}